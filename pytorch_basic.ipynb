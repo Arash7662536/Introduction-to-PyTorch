{
 "cells": [
  {
   "cell_type": "markdown",
   "metadata": {
    "id": "QcJK3kXl--c3"
   },
   "source": [
    "# pytorch and MLP\n",
    "\n",
    "\n"
   ]
  },
  {
   "cell_type": "markdown",
   "metadata": {
    "id": "kQndOAmiVTO3"
   },
   "source": [
    "# Setup Code\n",
    "Before getting started we need to run some boilerplate code to set up our environment. You'll need to rerun this setup code each time you start the notebook.\n",
    "\n",
    "First, run this cell load the [autoreload](https://ipython.readthedocs.io/en/stable/config/extensions/autoreload.html?highlight=autoreload) extension. This allows us to edit `.py` source files, and re-import them into the notebook for a seamless editing and debugging experience."
   ]
  },
  {
   "cell_type": "code",
   "execution_count": null,
   "metadata": {
    "id": "H5PzjwH7VTO4"
   },
   "outputs": [],
   "source": [
    "%load_ext autoreload\n",
    "%autoreload 2"
   ]
  },
  {
   "cell_type": "markdown",
   "metadata": {
    "id": "bCtoiSyVVTO8"
   },
   "source": [
    "### Google Colab Setup\n",
    "Next we need to run a few commands to set up our environment on Google Colab. If you are running this notebook on a local machine you can skip this section.\n",
    "\n",
    "Run the following cell to mount your Google Drive. Follow the link, sign in to your Google account (the same account you used to store this notebook!) and copy the authorization code into the text box that appears below."
   ]
  },
  {
   "cell_type": "code",
   "execution_count": null,
   "metadata": {
    "colab": {
     "base_uri": "https://localhost:8080/"
    },
    "id": "tHG0slB6VTO8",
    "outputId": "82e967d2-0512-4a14-c576-2fea6a652b95"
   },
   "outputs": [
    {
     "output_type": "stream",
     "name": "stdout",
     "text": [
      "Mounted at /content/drive\n"
     ]
    }
   ],
   "source": [
    "# from google.colab import drive\n",
    "# drive.mount('/content/drive')"
   ]
  },
  {
   "cell_type": "code",
   "execution_count": null,
   "metadata": {
    "colab": {
     "base_uri": "https://localhost:8080/"
    },
    "id": "KqMvJnNHVTPA",
    "outputId": "394c5890-abd6-4298-917a-f5ecea9b15a0"
   },
   "outputs": [
    {
     "output_type": "stream",
     "name": "stdout",
     "text": [
      "['pytorch_basic.ipynb', '__pycache__', 'pytorch_basic.py']\n"
     ]
    }
   ],
   "source": [
    "import os\n",
    "\n",
    "# TODO: Fill in the Google Drive path where you uploaded the assignment\n",
    "# Example: If you create a 2020FA folder and put all the files under A1 folder, then '2020FA/A1'\n",
    "# GOOGLE_DRIVE_PATH_AFTER_MYDRIVE = '2020FA/A1'\n",
    "GOOGLE_DRIVE_PATH_AFTER_MYDRIVE = \"Pytorch_question\"\n",
    "GOOGLE_DRIVE_PATH = os.path.join('drive', 'My Drive', GOOGLE_DRIVE_PATH_AFTER_MYDRIVE)\n",
    "print(os.listdir(GOOGLE_DRIVE_PATH))"
   ]
  },
  {
   "cell_type": "markdown",
   "metadata": {
    "id": "ko-wLqHWVTPC"
   },
   "source": [
    "Once you have successfully mounted your Google Drive and located the path to this assignment, run the following cell to allow us to import from the `.py` files of this assignment. If it works correctly, it should print the message:\n",
    "\n",
    "```\n",
    "Hello from pytorch_basic.py!\n",
    "```\n",
    "\n",
    "as well as the last edit time for the file `pytorch_basic.py`."
   ]
  },
  {
   "cell_type": "code",
   "execution_count": null,
   "metadata": {
    "colab": {
     "base_uri": "https://localhost:8080/"
    },
    "id": "1AoThF9eVTPD",
    "outputId": "0a70d456-467e-4e4f-c0ac-04d4039afc18"
   },
   "outputs": [
    {
     "output_type": "stream",
     "name": "stderr",
     "text": [
      "/content/drive/My Drive/Pytorch_question/pytorch_basic.py:23: SyntaxWarning: list indices must be integers or slices, not tuple; perhaps you missed a comma?\n",
      "  [100,0]\n"
     ]
    },
    {
     "output_type": "stream",
     "name": "stdout",
     "text": [
      "Hello from pytorch_basic.py!\n",
      "pytorch_basic.py last edited on Sat Feb 24 10:33:41 2024\n"
     ]
    }
   ],
   "source": [
    "import sys\n",
    "sys.path.append(GOOGLE_DRIVE_PATH)\n",
    "\n",
    "import time, os\n",
    "os.environ[\"TZ\"] = \"'Asia/Tehran'\"\n",
    "time.tzset()\n",
    "\n",
    "from pytorch_basic import hello\n",
    "hello()\n",
    "\n",
    "pytorch_path = os.path.join(GOOGLE_DRIVE_PATH, 'pytorch_basic.py')\n",
    "edit_time = time.ctime(os.path.getmtime(pytorch_path))\n",
    "print('pytorch_basic.py last edited on %s' % edit_time)"
   ]
  },
  {
   "cell_type": "markdown",
   "metadata": {
    "id": "1MEmHrgBsgX4"
   },
   "source": [
    "# PyTorch"
   ]
  },
  {
   "cell_type": "markdown",
   "metadata": {
    "id": "c3e_Nux0siHo"
   },
   "source": [
    "[PyTorch](https://pytorch.org/) is an open source machine learning framework. At its core, PyTorch provides a few key features:\n",
    "\n",
    "- A multidimensional **Tensor** object, similar to [numpy](https://numpy.org/) but with GPU accelleration.\n",
    "- An optimized **autograd** engine for automatically computing derivatives\n",
    "- A clean, modular API for building and deploying **deep learning models**\n",
    "\n",
    " This notebook will focus on the **Tensor API**, as it is the main part of PyTorch that we will use for the first few assignments.\n",
    "\n",
    "You can find more information about PyTorch by following one of the [oficial tutorials](https://pytorch.org/tutorials/) or by [reading the documentation](https://pytorch.org/docs/stable/)."
   ]
  },
  {
   "cell_type": "markdown",
   "metadata": {
    "id": "zdiO3_y-vKQ9"
   },
   "source": [
    "To use PyTorch, we first need to import the `torch` package.\n",
    "\n",
    "We also check the version; the assignments in this course will use PyTorch verion 1.6.0, since this is the default version in Google Colab."
   ]
  },
  {
   "cell_type": "code",
   "execution_count": null,
   "metadata": {
    "colab": {
     "base_uri": "https://localhost:8080/"
    },
    "id": "sydFm14itrqq",
    "outputId": "f1dfc6f0-39fd-4e3b-f170-17b9cf8df70f"
   },
   "outputs": [
    {
     "output_type": "stream",
     "name": "stdout",
     "text": [
      "2.1.0+cu121\n"
     ]
    }
   ],
   "source": [
    "import torch\n",
    "print(torch.__version__)"
   ]
  },
  {
   "cell_type": "markdown",
   "metadata": {
    "id": "HrBSx6hYu8ca"
   },
   "source": [
    "## Tensor Basics"
   ]
  },
  {
   "cell_type": "markdown",
   "metadata": {
    "id": "LWagwmXuvIle"
   },
   "source": [
    "### Creating and Accessing tensors"
   ]
  },
  {
   "cell_type": "markdown",
   "metadata": {
    "id": "Bf_SY4RzvAh_"
   },
   "source": [
    "A `torch` **tensor** is a multidimensional grid of values, all of the same type, and is indexed by a tuple of nonnegative integers. The number of dimensions is the **rank** of the tensor; the **shape** of a tensor is a tuple of integers giving the size of the array along each dimension.\n",
    "\n",
    "We can initialize `torch` tensor from nested Python lists. We can access or mutate elements of a PyTorch tensor using square brackets.\n",
    "\n",
    "Accessing an element from a PyTorch tensor returns a PyTorch scalar; we can convert this to a Python scalar using the `.item()` method:"
   ]
  },
  {
   "cell_type": "code",
   "execution_count": null,
   "metadata": {
    "colab": {
     "base_uri": "https://localhost:8080/"
    },
    "id": "IpwfVUvPu_lF",
    "outputId": "84d4dfe9-19ce-4437-8832-2dfadf269eda"
   },
   "outputs": [
    {
     "output_type": "stream",
     "name": "stdout",
     "text": [
      "Here is a:\n",
      "tensor([1, 2, 3])\n",
      "type(a):  <class 'torch.Tensor'>\n",
      "rank of a:  1\n",
      "a.shape:  torch.Size([3])\n",
      "\n",
      "a[0]:  tensor(1)\n",
      "type(a[0]):  <class 'torch.Tensor'>\n",
      "type(a[0].item()):  <class 'int'>\n",
      "\n",
      "a after mutating:\n",
      "tensor([ 1, 10,  3])\n"
     ]
    }
   ],
   "source": [
    "# Create a rank 1 tensor from a Python list\n",
    "a = torch.tensor([1, 2, 3])\n",
    "print('Here is a:')\n",
    "print(a)\n",
    "print('type(a): ', type(a))\n",
    "print('rank of a: ', a.dim())\n",
    "print('a.shape: ', a.shape)\n",
    "\n",
    "# Access elements using square brackets\n",
    "print()\n",
    "print('a[0]: ', a[0])\n",
    "print('type(a[0]): ', type(a[0]))\n",
    "print('type(a[0].item()): ', type(a[0].item()))\n",
    "\n",
    "# Mutate elements using square brackets\n",
    "a[1] = 10\n",
    "print()\n",
    "print('a after mutating:')\n",
    "print(a)"
   ]
  },
  {
   "cell_type": "markdown",
   "metadata": {
    "id": "FZq4zsnLEgXH"
   },
   "source": [
    "The example above shows a one-dimensional tensor; we can similarly create tensors with two or more dimensions:"
   ]
  },
  {
   "cell_type": "code",
   "execution_count": null,
   "metadata": {
    "colab": {
     "base_uri": "https://localhost:8080/"
    },
    "id": "7TcvHxpTFUcL",
    "outputId": "b78bc437-0293-4359-a0f4-d5b00756b99c"
   },
   "outputs": [
    {
     "output_type": "stream",
     "name": "stdout",
     "text": [
      "Here is b:\n",
      "tensor([[1, 2, 3],\n",
      "        [4, 5, 5]])\n",
      "rank of b: 2\n",
      "b.shape:  torch.Size([2, 3])\n",
      "\n",
      "b[0, 1]: tensor(2)\n",
      "b[1, 2]: tensor(5)\n",
      "\n",
      "b after mutating:\n",
      "tensor([[  1,   2,   3],\n",
      "        [  4, 100,   5]])\n"
     ]
    }
   ],
   "source": [
    "# Create a two-dimensional tensor\n",
    "b = torch.tensor([[1, 2, 3], [4, 5, 5]])\n",
    "print('Here is b:')\n",
    "print(b)\n",
    "print('rank of b:', b.dim())\n",
    "print('b.shape: ', b.shape)\n",
    "\n",
    "# Access elements from a multidimensional tensor\n",
    "print()\n",
    "print('b[0, 1]:', b[0, 1])\n",
    "print('b[1, 2]:', b[1, 2])\n",
    "\n",
    "# Mutate elements of a multidimensional tensor\n",
    "b[1, 1] = 100\n",
    "print()\n",
    "print('b after mutating:')\n",
    "print(b)"
   ]
  },
  {
   "cell_type": "code",
   "execution_count": null,
   "metadata": {
    "colab": {
     "base_uri": "https://localhost:8080/"
    },
    "id": "zjCIUzbaVTPs",
    "outputId": "22d8ad21-251e-4ae1-b3cc-9d1012fcda4d"
   },
   "outputs": [
    {
     "output_type": "stream",
     "name": "stdout",
     "text": [
      "Here is the sample tensor:\n",
      "tensor([[  0.,  10.],\n",
      "        [100.,   0.],\n",
      "        [  0.,   0.]])\n",
      "\n",
      "After mutating:\n",
      "tensor([[ 4., 10.],\n",
      "        [ 5.,  6.],\n",
      "        [ 0.,  0.]])\n",
      "\n",
      "Correct shape:  True\n",
      "x[0, 0] correct:  True\n",
      "x[1, 0] correct:  True\n",
      "x[1, 1] correct:  True\n",
      "\n",
      "Number of elements in x:  6\n",
      "Correctly counted:  True\n"
     ]
    }
   ],
   "source": [
    "from pytorch_basic import create_sample_tensor, mutate_tensor, count_tensor_elements\n",
    "\n",
    "# Create a sample tensor\n",
    "x = create_sample_tensor()\n",
    "print('Here is the sample tensor:')\n",
    "print(x)\n",
    "\n",
    "# Mutate the tensor by setting a few elements\n",
    "indices = [(0, 0), (1, 0), (1, 1)]\n",
    "values = [4, 5, 6]\n",
    "mutate_tensor(x, indices, values)\n",
    "print('\\nAfter mutating:')\n",
    "print(x)\n",
    "print('\\nCorrect shape: ', x.shape == (3, 2))\n",
    "print('x[0, 0] correct: ', x[0, 0].item() == 4)\n",
    "print('x[1, 0] correct: ', x[1, 0].item() == 5)\n",
    "print('x[1, 1] correct: ', x[1, 1].item() == 6)\n",
    "\n",
    "# Check the number of elements in the sample tensor\n",
    "num = count_tensor_elements(x)\n",
    "print('\\nNumber of elements in x: ', num)\n",
    "print('Correctly counted: ', num == 6)"
   ]
  },
  {
   "cell_type": "markdown",
   "metadata": {
    "id": "Yz_VDA3IvP33"
   },
   "source": [
    "### Tensor constructors"
   ]
  },
  {
   "cell_type": "code",
   "execution_count": null,
   "metadata": {
    "id": "FL6DXGXzxHBA",
    "colab": {
     "base_uri": "https://localhost:8080/"
    },
    "outputId": "48350334-d869-4644-ea01-504fd4eb9453"
   },
   "outputs": [
    {
     "output_type": "stream",
     "name": "stdout",
     "text": [
      "tensor of zeros:\n",
      "tensor([[0., 0., 0.],\n",
      "        [0., 0., 0.]])\n",
      "\n",
      "tensor of ones:\n",
      "tensor([[1., 1.]])\n",
      "\n",
      "identity matrix:\n",
      "tensor([[1., 0., 0.],\n",
      "        [0., 1., 0.],\n",
      "        [0., 0., 1.]])\n",
      "\n",
      "random tensor:\n",
      "tensor([[0.1361, 0.1964, 0.7943, 0.5436, 0.9588],\n",
      "        [0.6064, 0.0622, 0.3216, 0.9158, 0.7701],\n",
      "        [0.4073, 0.3741, 0.6865, 0.4334, 0.7597],\n",
      "        [0.5312, 0.1090, 0.4618, 0.2767, 0.8718]])\n"
     ]
    }
   ],
   "source": [
    "# Create a tensor of all zeros\n",
    "a = torch.zeros(2, 3)\n",
    "print('tensor of zeros:')\n",
    "print(a)\n",
    "\n",
    "# Create a tensor of all ones\n",
    "b = torch.ones(1, 2)\n",
    "print('\\ntensor of ones:')\n",
    "print(b)\n",
    "\n",
    "# Create a 3x3 identity matrix\n",
    "c = torch.eye(3)\n",
    "print('\\nidentity matrix:')\n",
    "print(c)\n",
    "\n",
    "# Tensor of random values\n",
    "d = torch.rand(4, 5)\n",
    "print('\\nrandom tensor:')\n",
    "print(d)"
   ]
  },
  {
   "cell_type": "code",
   "execution_count": null,
   "metadata": {
    "id": "N_y7Z5I0NIaA",
    "colab": {
     "base_uri": "https://localhost:8080/"
    },
    "outputId": "2ea7d220-9712-4187-992d-ed2816738894"
   },
   "outputs": [
    {
     "output_type": "stream",
     "name": "stdout",
     "text": [
      "x is a tensor: True\n",
      "x has correct shape:  True\n",
      "x is filled with sevens:  True\n"
     ]
    }
   ],
   "source": [
    "from pytorch_basic import create_tensor_of_pi\n",
    "\n",
    "x = create_tensor_of_pi(4, 5)\n",
    "\n",
    "print('x is a tensor:', torch.is_tensor(x))\n",
    "print('x has correct shape: ', x.shape == (4, 5))\n",
    "print('x is filled with sevens: ', (x == 3.14).all().item() == 1)"
   ]
  },
  {
   "cell_type": "markdown",
   "metadata": {
    "id": "Rz_hiJD33fu1"
   },
   "source": [
    "### Datatypes"
   ]
  },
  {
   "cell_type": "code",
   "execution_count": null,
   "metadata": {
    "id": "vREVDf_n31Qz",
    "colab": {
     "base_uri": "https://localhost:8080/"
    },
    "outputId": "ed1396bd-9a70-42f5-ac9b-e72536d44499"
   },
   "outputs": [
    {
     "output_type": "stream",
     "name": "stdout",
     "text": [
      "dtype when torch chooses for us:\n",
      "List of integers: torch.int64\n",
      "List of floats: torch.float32\n",
      "Mixed list: torch.float32\n",
      "\n",
      "dtype when we force a datatype:\n",
      "32-bit float:  torch.float32\n",
      "32-bit integer:  torch.int32\n",
      "64-bit integer:  torch.int64\n",
      "\n",
      "torch.ones with different dtypes\n",
      "default dtype: torch.float32\n",
      "16-bit integer: torch.int16\n",
      "8-bit unsigned integer: torch.uint8\n"
     ]
    }
   ],
   "source": [
    "# Let torch choose the datatype\n",
    "x0 = torch.tensor([1, 2])   # List of integers\n",
    "x1 = torch.tensor([1., 2.]) # List of floats\n",
    "x2 = torch.tensor([1., 2])  # Mixed list\n",
    "print('dtype when torch chooses for us:')\n",
    "print('List of integers:', x0.dtype)\n",
    "print('List of floats:', x1.dtype)\n",
    "print('Mixed list:', x2.dtype)\n",
    "\n",
    "# Force a particular datatype\n",
    "y0 = torch.tensor([1, 2], dtype=torch.float32)  # 32-bit float\n",
    "y1 = torch.tensor([1, 2], dtype=torch.int32)    # 32-bit (signed) integer\n",
    "y2 = torch.tensor([1, 2], dtype=torch.int64)    # 64-bit (signed) integer\n",
    "print('\\ndtype when we force a datatype:')\n",
    "print('32-bit float: ', y0.dtype)\n",
    "print('32-bit integer: ', y1.dtype)\n",
    "print('64-bit integer: ', y2.dtype)\n",
    "\n",
    "# Other creation ops also take a dtype argument\n",
    "z0 = torch.ones(1, 2)  # Let torch choose for us\n",
    "z1 = torch.ones(1, 2, dtype=torch.int16) # 16-bit (signed) integer\n",
    "z2 = torch.ones(1, 2, dtype=torch.uint8) # 8-bit (unsigned) integer\n",
    "print('\\ntorch.ones with different dtypes')\n",
    "print('default dtype:', z0.dtype)\n",
    "print('16-bit integer:', z1.dtype)\n",
    "print('8-bit unsigned integer:', z2.dtype)"
   ]
  },
  {
   "cell_type": "markdown",
   "metadata": {
    "id": "W2reBgQmx_x4"
   },
   "source": [
    "We can **cast** a tensor to another datatype using the [`.to()`](https://pytorch.org/docs/1.1.0/tensors.html#torch.Tensor.to) method; there are also convenience methods like [`.float()`](https://pytorch.org/docs/1.1.0/tensors.html#torch.Tensor.float) and [`.long()`](https://pytorch.org/docs/1.1.0/tensors.html#torch.Tensor.long) that cast to particular datatypes:\n"
   ]
  },
  {
   "cell_type": "code",
   "execution_count": null,
   "metadata": {
    "id": "sAMpwGsdyHAw",
    "colab": {
     "base_uri": "https://localhost:8080/"
    },
    "outputId": "d29abdaf-0935-4f5f-f0e7-96027b8f70eb"
   },
   "outputs": [
    {
     "output_type": "stream",
     "name": "stdout",
     "text": [
      "x0: torch.int64\n",
      "x1: torch.float32\n",
      "x2: torch.float64\n",
      "x3: torch.float32\n",
      "x4: torch.float64\n"
     ]
    }
   ],
   "source": [
    "x0 = torch.eye(3, dtype=torch.int64)\n",
    "x1 = x0.float()  # Cast to 32-bit float\n",
    "x2 = x0.double() # Cast to 64-bit float\n",
    "x3 = x0.to(torch.float32) # Alternate way to cast to 32-bit float\n",
    "x4 = x0.to(torch.float64) # Alternate way to cast to 64-bit float\n",
    "print('x0:', x0.dtype)\n",
    "print('x1:', x1.dtype)\n",
    "print('x2:', x2.dtype)\n",
    "print('x3:', x3.dtype)\n",
    "print('x4:', x4.dtype)"
   ]
  },
  {
   "cell_type": "markdown",
   "metadata": {
    "id": "k2O8Atl1wMB7"
   },
   "source": [
    "PyTorch provides several ways to create a tensor with the same datatype as another tensor:\n",
    "\n",
    "- PyTorch provides tensor constructors such as [`torch.zeros_like()`](https://pytorch.org/docs/stable/generated/torch.zeros_like.html#torch.zeros_like) that create new tensors with the same shape and type as a given tensor\n",
    "- Tensor objects have instance methods such as [`.new_zeros()`](https://pytorch.org/docs/stable/tensors.html#torch.Tensor.new_zeros) that create tensors the same type but possibly different shapes\n",
    "- The tensor instance method [`.to()`](https://pytorch.org/docs/stable/tensors.html#torch.Tensor.to) can take a tensor as an argument, in which case it casts to the datatype of the argument."
   ]
  },
  {
   "cell_type": "code",
   "execution_count": null,
   "metadata": {
    "id": "1APDsx54xV6p",
    "colab": {
     "base_uri": "https://localhost:8080/"
    },
    "outputId": "562b446d-c921-42f8-ea24-461b132a5f0d"
   },
   "outputs": [
    {
     "output_type": "stream",
     "name": "stdout",
     "text": [
      "x0 shape is torch.Size([3, 3]), dtype is torch.float64\n",
      "x1 shape is torch.Size([3, 3]), dtype is torch.float64\n",
      "x2 shape is torch.Size([4, 5]), dtype is torch.float64\n",
      "x3 shape is torch.Size([6, 7]), dtype is torch.float64\n"
     ]
    }
   ],
   "source": [
    "x0 = torch.eye(3, dtype=torch.float64)  # Shape (3, 3), dtype torch.float64\n",
    "x1 = torch.zeros_like(x0)               # Shape (3, 3), dtype torch.float64\n",
    "x2 = x0.new_zeros(4, 5)                 # Shape (4, 5), dtype torch.float64\n",
    "x3 = torch.ones(6, 7).to(x0)            # Shape (6, 7), dtype torch.float64)\n",
    "print('x0 shape is %r, dtype is %r' % (x0.shape, x0.dtype))\n",
    "print('x1 shape is %r, dtype is %r' % (x1.shape, x1.dtype))\n",
    "print('x2 shape is %r, dtype is %r' % (x2.shape, x2.dtype))\n",
    "print('x3 shape is %r, dtype is %r' % (x3.shape, x3.dtype))"
   ]
  },
  {
   "cell_type": "code",
   "execution_count": null,
   "metadata": {
    "id": "Qddo6C5Bgwcr",
    "colab": {
     "base_uri": "https://localhost:8080/"
    },
    "outputId": "2e00aebb-007d-464b-87e0-00d2765b1045"
   },
   "outputs": [
    {
     "output_type": "stream",
     "name": "stdout",
     "text": [
      "Correct dtype:  True\n",
      "Correct shape:  True\n",
      "Correct values:  True\n",
      "\n",
      "Correct dtype:  True\n",
      "Correct shape:  True\n"
     ]
    }
   ],
   "source": [
    "from pytorch_basic import multiples_of_ten\n",
    "\n",
    "start = 5\n",
    "stop = 25\n",
    "x = multiples_of_ten(start, stop)\n",
    "print('Correct dtype: ', x.dtype == torch.float64)\n",
    "print('Correct shape: ', x.shape == (2,))\n",
    "print('Correct values: ', x.tolist() == [10, 20])\n",
    "\n",
    "# If there are no multiples of ten in the given range you should return an empty tensor\n",
    "start = 5\n",
    "stop = 7\n",
    "x = multiples_of_ten(start, stop)\n",
    "print('\\nCorrect dtype: ', x.dtype == torch.float64)\n",
    "print('Correct shape: ', x.shape == (0,))"
   ]
  },
  {
   "cell_type": "markdown",
   "metadata": {
    "id": "RwJL3HVySvXn"
   },
   "source": [
    "Even though PyTorch provides a large number of numeric datatypes, the most commonly used datatypes are:\n",
    "\n",
    "- `torch.float32`: Standard floating-point type; used to store learnable parameters, network activations, etc. Nearly all arithmetic is done using this type.\n",
    "- `torch.int64`: Typically used to store indices\n",
    "- `torch.bool`: Stores boolean values: 0 is false and 1 is true\n",
    "- `torch.float16`: Used for mixed-precision arithmetic, usually on NVIDIA GPUs with [tensor cores](https://www.nvidia.com/en-us/data-center/tensorcore/). You won't need to worry about this datatype in this course."
   ]
  },
  {
   "cell_type": "markdown",
   "metadata": {
    "id": "rlANfnILvX3S"
   },
   "source": [
    "## Tensor indexing"
   ]
  },
  {
   "cell_type": "markdown",
   "metadata": {
    "id": "KP4dRrHhyLO5"
   },
   "source": [
    "We have already seen how to get and set individual elements of PyTorch tensors. PyTorch also provides many other ways of indexing into tensors. Getting comfortable with these different options makes it easy to modify different parts of tensors with ease."
   ]
  },
  {
   "cell_type": "markdown",
   "metadata": {
    "id": "mo-PoTWNvbba"
   },
   "source": [
    "### Slice indexing"
   ]
  },
  {
   "cell_type": "markdown",
   "metadata": {
    "id": "qUqTYvglyVLc"
   },
   "source": [
    "Similar to Python lists and numpy arrays, PyTorch tensors can be **sliced** using the syntax `start:stop` or `start:stop:step`. The `stop` index is always non-inclusive: it is the first element not to be included in the slice.\n",
    "\n"
   ]
  },
  {
   "cell_type": "code",
   "execution_count": null,
   "metadata": {
    "id": "yEr5BzdUdCtZ",
    "colab": {
     "base_uri": "https://localhost:8080/"
    },
    "outputId": "cd66d405-07d3-441f-c5c6-0d959d2296e3"
   },
   "outputs": [
    {
     "output_type": "stream",
     "name": "stdout",
     "text": [
      "0 tensor([ 0, 11, 22, 33, 44, 55, 66])\n",
      "1 tensor([22, 33, 44])\n",
      "2 tensor([22, 33, 44, 55, 66])\n",
      "3 tensor([ 0, 11, 22, 33, 44])\n",
      "4 tensor([ 0, 11, 22, 33, 44, 55, 66])\n",
      "5 tensor([11, 33])\n",
      "6 tensor([ 0, 11, 22, 33, 44, 55])\n",
      "7 tensor([33, 55])\n"
     ]
    }
   ],
   "source": [
    "a = torch.tensor([0, 11, 22, 33, 44, 55, 66])\n",
    "print(0, a)        # (0) Original tensor\n",
    "print(1, a[2:5])   # (1) Elements between index 2 and 5\n",
    "print(2, a[2:])    # (2) Elements after index 2\n",
    "print(3, a[:5])    # (3) Elements before index 5\n",
    "print(4, a[:])     # (4) All elements\n",
    "print(5, a[1:5:2]) # (5) Every second element between indices 1 and 5\n",
    "print(6, a[:-1])   # (6) All but the last element\n",
    "print(7, a[-4::2]) # (7) Every second element, starting from the fourth-last"
   ]
  },
  {
   "cell_type": "markdown",
   "metadata": {
    "id": "yrcr9PojgTS1"
   },
   "source": [
    "For multidimensional tensors, you can provide a slice or integer for each dimension of the tensor in order to extract different types of subtensors:"
   ]
  },
  {
   "cell_type": "code",
   "execution_count": null,
   "metadata": {
    "id": "S5fOdjTUyhNf",
    "colab": {
     "base_uri": "https://localhost:8080/"
    },
    "outputId": "c0201c50-b773-4bcd-ffa9-ed1373753fd6"
   },
   "outputs": [
    {
     "output_type": "stream",
     "name": "stdout",
     "text": [
      "Original tensor:\n",
      "tensor([[ 1,  2,  3,  4],\n",
      "        [ 5,  6,  7,  8],\n",
      "        [ 9, 10, 11, 12]])\n",
      "shape:  torch.Size([3, 4])\n",
      "\n",
      "Single row:\n",
      "tensor([5, 6, 7, 8])\n",
      "tensor([5, 6, 7, 8])\n",
      "shape:  torch.Size([4])\n",
      "\n",
      "Single column:\n",
      "tensor([ 2,  6, 10])\n",
      "shape:  torch.Size([3])\n",
      "\n",
      "First two rows, last two columns:\n",
      "tensor([[2, 3, 4],\n",
      "        [6, 7, 8]])\n",
      "shape:  torch.Size([2, 3])\n",
      "\n",
      "Every other row, middle columns:\n",
      "tensor([[ 2,  3],\n",
      "        [10, 11]])\n",
      "shape:  torch.Size([2, 2])\n"
     ]
    }
   ],
   "source": [
    "# Create the following rank 2 tensor with shape (3, 4)\n",
    "# [[ 1  2  3  4]\n",
    "#  [ 5  6  7  8]\n",
    "#  [ 9 10 11 12]]\n",
    "a = torch.tensor([[1,2,3,4], [5,6,7,8], [9,10,11,12]])\n",
    "print('Original tensor:')\n",
    "print(a)\n",
    "print('shape: ', a.shape)\n",
    "\n",
    "# Get row 1, and all columns.\n",
    "print('\\nSingle row:')\n",
    "print(a[1, :])\n",
    "print(a[1])  # Gives the same result; we can omit : for trailing dimensions\n",
    "print('shape: ', a[1].shape)\n",
    "\n",
    "print('\\nSingle column:')\n",
    "print(a[:, 1])\n",
    "print('shape: ', a[:, 1].shape)\n",
    "\n",
    "# Get the first two rows and the last three columns\n",
    "print('\\nFirst two rows, last two columns:')\n",
    "print(a[:2, -3:])\n",
    "print('shape: ', a[:2, -3:].shape)\n",
    "\n",
    "# Get every other row, and columns at index 1 and 2\n",
    "print('\\nEvery other row, middle columns:')\n",
    "print(a[::2, 1:3])\n",
    "print('shape: ', a[::2, 1:3].shape)"
   ]
  },
  {
   "cell_type": "code",
   "execution_count": null,
   "metadata": {
    "id": "P1kHcc5jsF-c",
    "colab": {
     "base_uri": "https://localhost:8080/"
    },
    "outputId": "dd9c596b-c3a5-47e8-a346-b606338449e6"
   },
   "outputs": [
    {
     "output_type": "stream",
     "name": "stdout",
     "text": [
      "Original tensor\n",
      "tensor([[ 1,  2,  3,  4],\n",
      "        [ 5,  6,  7,  8],\n",
      "        [ 9, 10, 11, 12]])\n",
      "\n",
      "Two ways of accessing a single row:\n",
      "tensor([5, 6, 7, 8]) torch.Size([4])\n",
      "tensor([[5, 6, 7, 8]]) torch.Size([1, 4])\n",
      "\n",
      "Two ways of accessing a single column:\n",
      "tensor([ 2,  6, 10]) torch.Size([3])\n",
      "tensor([[ 2],\n",
      "        [ 6],\n",
      "        [10]]) torch.Size([3, 1])\n"
     ]
    }
   ],
   "source": [
    "# Create the following rank 2 tensor with shape (3, 4)\n",
    "a = torch.tensor([[1,2,3,4], [5,6,7,8], [9,10,11,12]])\n",
    "print('Original tensor')\n",
    "print(a)\n",
    "\n",
    "row_r1 = a[1, :]    # Rank 1 view of the second row of a\n",
    "row_r2 = a[1:2, :]  # Rank 2 view of the second row of a\n",
    "print('\\nTwo ways of accessing a single row:')\n",
    "print(row_r1, row_r1.shape)\n",
    "print(row_r2, row_r2.shape)\n",
    "\n",
    "# We can make the same distinction when accessing columns::\n",
    "col_r1 = a[:, 1]\n",
    "col_r2 = a[:, 1:2]\n",
    "print('\\nTwo ways of accessing a single column:')\n",
    "print(col_r1, col_r1.shape)\n",
    "print(col_r2, col_r2.shape)"
   ]
  },
  {
   "cell_type": "markdown",
   "metadata": {
    "id": "Jk625fJfyxV8"
   },
   "source": [
    "Slicing a tensor returns a **view** into the same data, so modifying it will also modify the original tensor. To avoid this, you can use the `clone()` method to make a copy of a tensor."
   ]
  },
  {
   "cell_type": "code",
   "execution_count": null,
   "metadata": {
    "id": "IXbikYPwyxGA",
    "colab": {
     "base_uri": "https://localhost:8080/"
    },
    "outputId": "ede43bad-8e5d-4531-c9de-8eb77a510d9c"
   },
   "outputs": [
    {
     "output_type": "stream",
     "name": "stdout",
     "text": [
      "Before mutating:\n",
      "tensor([[1, 2, 3, 4],\n",
      "        [5, 6, 7, 8]])\n",
      "tensor([2, 3, 4])\n",
      "tensor([2, 3, 4])\n",
      "\n",
      "After mutating:\n",
      "tensor([[ 1, 20, 30,  4],\n",
      "        [ 5,  6,  7,  8]])\n",
      "tensor([20, 30,  4])\n",
      "tensor([ 2,  3, 40])\n",
      "False\n"
     ]
    },
    {
     "output_type": "stream",
     "name": "stderr",
     "text": [
      "<ipython-input-18-ebe253bfaff2>:18: UserWarning: TypedStorage is deprecated. It will be removed in the future and UntypedStorage will be the only storage class. This should only matter to you if you are using storages directly.  To access UntypedStorage directly, use tensor.untyped_storage() instead of tensor.storage()\n",
      "  print(a.storage().data_ptr() == c.storage().data_ptr())\n"
     ]
    }
   ],
   "source": [
    "# Create a tensor, a slice, and a clone of a slice\n",
    "a = torch.tensor([[1, 2, 3, 4], [5, 6, 7, 8]])\n",
    "b = a[0, 1:]\n",
    "c = a[0, 1:].clone()\n",
    "print('Before mutating:')\n",
    "print(a)\n",
    "print(b)\n",
    "print(c)\n",
    "\n",
    "a[0, 1] = 20  # a[0, 1] and b[0] point to the same element\n",
    "b[1] = 30     # b[1] and a[0, 2] point to the same element\n",
    "c[2] = 40     # c is a clone, so it has its own data\n",
    "print('\\nAfter mutating:')\n",
    "print(a)\n",
    "print(b)\n",
    "print(c)\n",
    "\n",
    "print(a.storage().data_ptr() == c.storage().data_ptr())"
   ]
  },
  {
   "cell_type": "code",
   "execution_count": null,
   "metadata": {
    "id": "yKq2mswvqMmw"
   },
   "outputs": [],
   "source": [
    "# We will use this helper function to check your results\n",
    "def check(orig, actual, expected):\n",
    "    if not torch.is_tensor(actual):\n",
    "        return False\n",
    "    expected = torch.tensor(expected)\n",
    "    same_elements = (actual == expected).all().item()\n",
    "    same_storage = (orig.storage().data_ptr() == actual.storage().data_ptr())\n",
    "    return same_elements and same_storage"
   ]
  },
  {
   "cell_type": "code",
   "execution_count": null,
   "metadata": {
    "id": "5-5UtVXPVTQL",
    "colab": {
     "base_uri": "https://localhost:8080/"
    },
    "outputId": "22c466b8-7266-4adb-c204-8440dac24199"
   },
   "outputs": [
    {
     "output_type": "stream",
     "name": "stdout",
     "text": [
      "last_row:\n",
      "tensor([11, 12, 13, 14, 15])\n",
      "Correct: True\n",
      "\n",
      "third_col:\n",
      "tensor([[ 3],\n",
      "        [ 8],\n",
      "        [13]])\n",
      "Correct: True\n",
      "\n",
      "first_two_rows_three_cols:\n",
      "tensor([[1, 2, 3],\n",
      "        [6, 7, 8]])\n",
      "Correct: True\n",
      "\n",
      "even_rows_odd_cols:\n",
      "tensor([[ 2,  4],\n",
      "        [12, 14]])\n",
      "Correct: True\n",
      "\n"
     ]
    }
   ],
   "source": [
    "from pytorch_basic import slice_indexing_practice\n",
    "\n",
    "# Create the following rank 2 tensor of shape (3, 5)\n",
    "# [[ 1  2  3  4  5]\n",
    "#  [ 6  7  8  9 10]\n",
    "#  [11 12 13 14 15]]\n",
    "x = torch.tensor([[1, 2, 3, 4, 5], [6, 7, 8, 8, 10], [11, 12, 13, 14, 15]])\n",
    "out = slice_indexing_practice(x)\n",
    "\n",
    "last_row = out[0]\n",
    "print('last_row:')\n",
    "print(last_row)\n",
    "correct = check(x, last_row, [11, 12, 13, 14, 15])\n",
    "print('Correct: %r\\n' % correct)\n",
    "\n",
    "third_col = out[1]\n",
    "print('third_col:')\n",
    "print(third_col)\n",
    "correct = check(x, third_col, [[3], [8], [13]])\n",
    "print('Correct: %r\\n' % correct)\n",
    "\n",
    "first_two_rows_three_cols = out[2]\n",
    "print('first_two_rows_three_cols:')\n",
    "print(first_two_rows_three_cols)\n",
    "correct = check(x, first_two_rows_three_cols, [[1, 2, 3], [6, 7, 8]])\n",
    "print('Correct: %r\\n' % correct)\n",
    "\n",
    "even_rows_odd_cols = out[3]\n",
    "print('even_rows_odd_cols:')\n",
    "print(even_rows_odd_cols)\n",
    "correct = check(x, even_rows_odd_cols, [[2, 4], [12, 14]])\n",
    "print('Correct: %r\\n' % correct)"
   ]
  },
  {
   "cell_type": "markdown",
   "metadata": {
    "id": "RNjhLwb0xY2A"
   },
   "source": [
    "So far we have used slicing to **access** subtensors; we can also use slicing to **modify** subtensors by writing assignment expressions where the left-hand side is a slice expression, and the right-hand side is a constant or a tensor of the correct shape:"
   ]
  },
  {
   "cell_type": "code",
   "execution_count": null,
   "metadata": {
    "id": "DFnky42Rx2I5",
    "colab": {
     "base_uri": "https://localhost:8080/"
    },
    "outputId": "64e01479-6755-42d7-ebbf-40264899ab45"
   },
   "outputs": [
    {
     "output_type": "stream",
     "name": "stdout",
     "text": [
      "tensor([[1, 1, 2, 3],\n",
      "        [1, 1, 4, 5]])\n"
     ]
    }
   ],
   "source": [
    "a = torch.zeros(2, 4, dtype=torch.int64)\n",
    "a[:, :2] = 1\n",
    "a[:, 2:] = torch.tensor([[2, 3], [4, 5]])\n",
    "print(a)"
   ]
  },
  {
   "cell_type": "code",
   "execution_count": null,
   "metadata": {
    "id": "FzXlnFqAVTQQ",
    "colab": {
     "base_uri": "https://localhost:8080/"
    },
    "outputId": "b928d0df-22ea-4416-97bb-e5f8aebd93fa"
   },
   "outputs": [
    {
     "output_type": "stream",
     "name": "stdout",
     "text": [
      "Here is x before calling slice_assignment_practice:\n",
      "tensor([[0, 0, 0, 0, 0, 0, 0],\n",
      "        [0, 0, 0, 0, 0, 0, 0],\n",
      "        [0, 0, 0, 0, 0, 0, 0],\n",
      "        [0, 0, 0, 0, 0, 0, 0],\n",
      "        [0, 0, 0, 0, 0, 0, 0]])\n",
      "Here is x after calling slice assignment practice:\n",
      "tensor([[0, 1, 2, 2, 2, 2, 0],\n",
      "        [0, 1, 2, 2, 2, 2, 0],\n",
      "        [3, 4, 3, 4, 5, 5, 0],\n",
      "        [3, 4, 3, 4, 5, 5, 0],\n",
      "        [0, 0, 0, 0, 0, 0, 0]])\n",
      "Correct:  True\n"
     ]
    }
   ],
   "source": [
    "from pytorch_basic import slice_assignment_practice\n",
    "\n",
    "x = torch.zeros(5, 7, dtype=torch.int64)\n",
    "print('Here is x before calling slice_assignment_practice:')\n",
    "print(x)\n",
    "slice_assignment_practice(x)\n",
    "print('Here is x after calling slice assignment practice:')\n",
    "print(x)\n",
    "\n",
    "expected = [\n",
    "    [0, 1, 2, 2, 2, 2, 0],\n",
    "    [0, 1, 2, 2, 2, 2, 0],\n",
    "    [3, 4, 3, 4, 5, 5, 0],\n",
    "    [3, 4, 3, 4, 5, 5, 0],\n",
    "    [0, 0, 0, 0, 0, 0, 0],\n",
    "]\n",
    "print('Correct: ', x.tolist() == expected)"
   ]
  },
  {
   "cell_type": "markdown",
   "metadata": {
    "id": "4y93rPhGveWw"
   },
   "source": [
    "### Integer tensor indexing"
   ]
  },
  {
   "cell_type": "code",
   "execution_count": null,
   "metadata": {
    "id": "IXePPNkjM_SD",
    "colab": {
     "base_uri": "https://localhost:8080/"
    },
    "outputId": "6acd08d1-e030-44fa-910c-3547afadd32d"
   },
   "outputs": [
    {
     "output_type": "stream",
     "name": "stdout",
     "text": [
      "Original tensor:\n",
      "tensor([[ 1,  2,  3,  4],\n",
      "        [ 5,  6,  7,  8],\n",
      "        [ 9, 10, 11, 12]])\n",
      "\n",
      "Reordered rows:\n",
      "tensor([[ 1,  2,  3,  4],\n",
      "        [ 1,  2,  3,  4],\n",
      "        [ 9, 10, 11, 12],\n",
      "        [ 5,  6,  7,  8],\n",
      "        [ 5,  6,  7,  8]])\n",
      "\n",
      "Reordered columns:\n",
      "tensor([[ 4,  3,  2,  1],\n",
      "        [ 8,  7,  6,  5],\n",
      "        [12, 11, 10,  9]])\n"
     ]
    }
   ],
   "source": [
    "# Create the following rank 2 tensor with shape (3, 4)\n",
    "# [[ 1  2  3  4]\n",
    "#  [ 5  6  7  8]\n",
    "#  [ 9 10 11 12]]\n",
    "a = torch.tensor([[1, 2, 3, 4], [5, 6, 7, 8], [9, 10, 11, 12]])\n",
    "print('Original tensor:')\n",
    "print(a)\n",
    "\n",
    "# Create a new tensor of shape (5, 4) by reordering rows from a:\n",
    "# - First two rows same as the first row of a\n",
    "# - Third row is the same as the last row of a\n",
    "# - Fourth and fifth rows are the same as the second row from a\n",
    "idx = [0, 0, 2, 1, 1]  # index arrays can be Python lists of integers\n",
    "print('\\nReordered rows:')\n",
    "print(a[idx])\n",
    "\n",
    "# Create a new tensor of shape (3, 4) by reversing the columns from a\n",
    "idx = torch.tensor([3, 2, 1, 0])  # Index arrays can be int64 torch tensors\n",
    "print('\\nReordered columns:')\n",
    "print(a[:, idx])"
   ]
  },
  {
   "cell_type": "markdown",
   "metadata": {
    "id": "CpIBR1bCQji6"
   },
   "source": [
    "More generally, given index arrays `idx0` and `idx1` with `N` elements each, `a[idx0, idx1]` is equivalent to:\n",
    "\n",
    "```\n",
    "torch.tensor([\n",
    "  a[idx0[0], idx1[0]],\n",
    "  a[idx0[1], idx1[1]],\n",
    "  ...,\n",
    "  a[idx0[N - 1], idx1[N - 1]]\n",
    "])\n",
    "```\n",
    "\n",
    "(A similar pattern extends to tensors with more than two dimensions)\n",
    "\n",
    "We can for example use this to get or set the diagonal of a tensor:"
   ]
  },
  {
   "cell_type": "code",
   "execution_count": null,
   "metadata": {
    "id": "ocIR8R5ZSEaP",
    "colab": {
     "base_uri": "https://localhost:8080/"
    },
    "outputId": "5122eb74-68f4-4fac-b88d-2b4b1a0481c0"
   },
   "outputs": [
    {
     "output_type": "stream",
     "name": "stdout",
     "text": [
      "Original tensor:\n",
      "tensor([[1, 2, 3],\n",
      "        [4, 5, 6],\n",
      "        [7, 8, 9]])\n",
      "\n",
      "Get the diagonal:\n",
      "tensor([1, 5, 9])\n",
      "\n",
      "After setting the diagonal:\n",
      "tensor([[11,  2,  3],\n",
      "        [ 4, 22,  6],\n",
      "        [ 7,  8, 33]])\n"
     ]
    }
   ],
   "source": [
    "a = torch.tensor([[1, 2, 3], [4, 5, 6], [7, 8, 9]])\n",
    "print('Original tensor:')\n",
    "print(a)\n",
    "\n",
    "idx = [0, 1, 2]\n",
    "print('\\nGet the diagonal:')\n",
    "print(a[idx, idx])\n",
    "\n",
    "# Modify the diagonal\n",
    "a[idx, idx] = torch.tensor([11, 22, 33])\n",
    "print('\\nAfter setting the diagonal:')\n",
    "print(a)"
   ]
  },
  {
   "cell_type": "markdown",
   "metadata": {
    "id": "O-cr-EqA0vfO"
   },
   "source": [
    "One useful trick with integer array indexing is selecting or mutating one element from each row or column of a matrix:"
   ]
  },
  {
   "cell_type": "code",
   "execution_count": null,
   "metadata": {
    "id": "HWA8E8iI0x17",
    "colab": {
     "base_uri": "https://localhost:8080/"
    },
    "outputId": "72680e4a-29b4-4a8e-d007-00134f2607da"
   },
   "outputs": [
    {
     "output_type": "stream",
     "name": "stdout",
     "text": [
      "Original tensor:\n",
      "tensor([[ 1,  2,  3],\n",
      "        [ 4,  5,  6],\n",
      "        [ 7,  8,  9],\n",
      "        [10, 11, 12]])\n",
      "\n",
      "Select one element from each row:\n",
      "tensor([ 2,  6,  8, 10])\n",
      "\n",
      "After modifying one element from each row:\n",
      "tensor([[ 1,  0,  3],\n",
      "        [ 4,  5,  0],\n",
      "        [ 7,  0,  9],\n",
      "        [ 0, 11, 12]])\n"
     ]
    }
   ],
   "source": [
    "# Create a new tensor from which we will select elements\n",
    "a = torch.tensor([[1, 2, 3], [4, 5, 6], [7, 8, 9], [10, 11, 12]])\n",
    "print('Original tensor:')\n",
    "print(a)\n",
    "\n",
    "# Take on element from each row of a:\n",
    "# from row 0, take element 1;\n",
    "# from row 1, take element 2;\n",
    "# from row 2, take element 1;\n",
    "# from row 3, take element 0\n",
    "idx0 = torch.arange(a.shape[0])  # Quick way to build [0, 1, 2, 3]\n",
    "idx1 = torch.tensor([1, 2, 1, 0])\n",
    "print('\\nSelect one element from each row:')\n",
    "print(a[idx0, idx1])\n",
    "\n",
    "# Now set each of those elements to zero\n",
    "a[idx0, idx1] = 0\n",
    "print('\\nAfter modifying one element from each row:')\n",
    "print(a)"
   ]
  },
  {
   "cell_type": "code",
   "execution_count": null,
   "metadata": {
    "id": "FX05_ov5VTQZ",
    "colab": {
     "base_uri": "https://localhost:8080/"
    },
    "outputId": "63a261db-6bbc-4b83-e5cb-50063e4a884c"
   },
   "outputs": [
    {
     "output_type": "stream",
     "name": "stdout",
     "text": [
      "Here is x:\n",
      "tensor([[ 1,  2,  3],\n",
      "        [ 4,  5,  6],\n",
      "        [ 7,  8,  9],\n",
      "        [10, 11, 12]])\n",
      "\n",
      "Here is shuffle_cols(x):\n",
      "tensor([[ 1,  1,  3,  2],\n",
      "        [ 4,  4,  6,  5],\n",
      "        [ 7,  7,  9,  8],\n",
      "        [10, 10, 12, 11]])\n",
      "Correct: True\n",
      "\n",
      "Here is reverse_rows(x):\n",
      "tensor([[10, 11, 12],\n",
      "        [ 7,  8,  9],\n",
      "        [ 4,  5,  6],\n",
      "        [ 1,  2,  3]])\n",
      "Correct: True\n",
      "\n",
      "Here is take_one_elem_per_col(x):\n",
      "tensor([ 4,  2, 12])\n",
      "Correct: True\n"
     ]
    }
   ],
   "source": [
    "from pytorch_basic import shuffle_cols, reverse_rows, take_one_elem_per_col\n",
    "\n",
    "# Build a tensor of shape (4, 3):\n",
    "# [[ 1,  2,  3],\n",
    "#  [ 4,  5,  6],\n",
    "#  [ 7,  8,  9],\n",
    "#  [10, 11, 12]]\n",
    "x = torch.tensor([[1, 2, 3], [4, 5, 6], [7, 8, 9], [10, 11, 12]])\n",
    "print('Here is x:')\n",
    "print(x)\n",
    "\n",
    "y1 = shuffle_cols(x)\n",
    "print('\\nHere is shuffle_cols(x):')\n",
    "print(y1)\n",
    "expected = [[1, 1, 3, 2], [4, 4, 6, 5], [7, 7, 9, 8], [10, 10, 12, 11]]\n",
    "y1_correct = torch.is_tensor(y1) and y1.tolist() == expected\n",
    "print('Correct: %r\\n' % y1_correct)\n",
    "\n",
    "y2 = reverse_rows(x)\n",
    "print('Here is reverse_rows(x):')\n",
    "print(y2)\n",
    "expected = [[10, 11, 12], [7, 8, 9], [4, 5, 6], [1, 2, 3]]\n",
    "y2_correct = torch.is_tensor(y2) and y2.tolist() == expected\n",
    "print('Correct: %r\\n' % y2_correct)\n",
    "\n",
    "y3 = take_one_elem_per_col(x)\n",
    "print('Here is take_one_elem_per_col(x):')\n",
    "print(y3)\n",
    "expected = [4, 2, 12]\n",
    "y3_correct = torch.is_tensor(y3) and y3.tolist() == expected\n",
    "print('Correct: %r' % y3_correct)"
   ]
  },
  {
   "cell_type": "markdown",
   "metadata": {
    "id": "oGt8ZPb_vixw"
   },
   "source": [
    "### Boolean tensor indexing"
   ]
  },
  {
   "cell_type": "markdown",
   "metadata": {
    "id": "6CkQaRj01xmU"
   },
   "source": [
    "Boolean tensor indexing lets you pick out arbitrary elements of a tensor according to a boolean mask. Frequently this type of indexing is used to select or modify the elements of a tensor that satisfy some condition.\n",
    "\n",
    "In PyTorch, we use tensors of dtype `torch.bool` to hold boolean masks.\n",
    "\n",
    "(Prior to version 1.2.0, there was no `torch.bool` type so instead `torch.uint8` was usually used to represent boolean data, with 0 indicating false and 1 indicating true. Watch out for this in older PyTorch code!)"
   ]
  },
  {
   "cell_type": "code",
   "execution_count": null,
   "metadata": {
    "id": "29Zf7rb82Dkd",
    "colab": {
     "base_uri": "https://localhost:8080/"
    },
    "outputId": "38d08fa5-a62c-4352-dcac-1a8e23ed1bf2"
   },
   "outputs": [
    {
     "output_type": "stream",
     "name": "stdout",
     "text": [
      "Original tensor:\n",
      "tensor([[1, 2],\n",
      "        [3, 4],\n",
      "        [5, 6]])\n",
      "\n",
      "Mask tensor:\n",
      "tensor([[False, False],\n",
      "        [False,  True],\n",
      "        [ True,  True]])\n",
      "\n",
      "Selecting elements with the mask:\n",
      "tensor([4, 5, 6])\n",
      "\n",
      "After modifying with a mask:\n",
      "tensor([[0, 0],\n",
      "        [0, 4],\n",
      "        [5, 6]])\n"
     ]
    }
   ],
   "source": [
    "a = torch.tensor([[1,2], [3, 4], [5, 6]])\n",
    "print('Original tensor:')\n",
    "print(a)\n",
    "\n",
    "# Find the elements of a that are bigger than 3. The mask has the same shape as\n",
    "# a, where each element of mask tells whether the corresponding element of a\n",
    "# is greater than three.\n",
    "mask = (a > 3)\n",
    "print('\\nMask tensor:')\n",
    "print(mask)\n",
    "\n",
    "# We can use the mask to construct a rank-1 tensor containing the elements of a\n",
    "# that are selected by the mask\n",
    "print('\\nSelecting elements with the mask:')\n",
    "print(a[mask])\n",
    "\n",
    "# We can also use boolean masks to modify tensors; for example this sets all\n",
    "# elements <= 3 to zero:\n",
    "a[a <= 3] = 0\n",
    "print('\\nAfter modifying with a mask:')\n",
    "print(a)"
   ]
  },
  {
   "cell_type": "code",
   "execution_count": null,
   "metadata": {
    "id": "2hkeYXN9d5xh",
    "colab": {
     "base_uri": "https://localhost:8080/"
    },
    "outputId": "b6d45feb-5186-452d-baa4-6268c57d8b73"
   },
   "outputs": [
    {
     "output_type": "stream",
     "name": "stdout",
     "text": [
      "Correct for x0:  True\n",
      "Correct for x1:  True\n",
      "Correct for x2:  True\n"
     ]
    }
   ],
   "source": [
    "from pytorch_basic import count_negative_entries\n",
    "\n",
    "# Make a few test cases\n",
    "torch.manual_seed(598)\n",
    "x0 = torch.tensor([[-1, -1, 0], [0, 1, 2], [3, 4, 5]])\n",
    "x1 = torch.tensor([0, 1, 2, 3])\n",
    "x2 = torch.randn(100, 100)\n",
    "print('Correct for x0: ', count_negative_entries(x0) == 2)\n",
    "print('Correct for x1: ', count_negative_entries(x1) == 0)\n",
    "print('Correct for x2: ', count_negative_entries(x2) == 4984)"
   ]
  },
  {
   "cell_type": "code",
   "execution_count": null,
   "metadata": {
    "id": "jaT1kuQ37Rsq",
    "colab": {
     "base_uri": "https://localhost:8080/"
    },
    "outputId": "f106116f-97c1-4fb6-9b91-7d4d2b015d41"
   },
   "outputs": [
    {
     "output_type": "stream",
     "name": "stdout",
     "text": [
      "Here is y0:\n",
      "tensor([[0., 1., 0., 0., 0.],\n",
      "        [0., 0., 0., 0., 1.],\n",
      "        [0., 0., 0., 1., 0.],\n",
      "        [0., 0., 1., 0., 0.]])\n",
      "y0 correct:  True\n",
      "\n",
      "Here is y1:\n",
      "tensor([[0., 1., 0., 0., 0., 0., 0., 0.],\n",
      "        [0., 0., 0., 1., 0., 0., 0., 0.],\n",
      "        [0., 0., 0., 0., 0., 1., 0., 0.],\n",
      "        [0., 0., 0., 0., 0., 0., 0., 1.],\n",
      "        [0., 0., 0., 0., 0., 0., 1., 0.],\n",
      "        [0., 0., 1., 0., 0., 0., 0., 0.]])\n",
      "y1 correct:  True\n"
     ]
    }
   ],
   "source": [
    "from pytorch_basic import make_one_hot\n",
    "\n",
    "def check_one_hot(x, y):\n",
    "    C = y.shape[1]\n",
    "    for i, n in enumerate(x):\n",
    "        if n >= C: return False\n",
    "        for j in range(C):\n",
    "            expected = 1.0 if j == n else 0.0\n",
    "            if y[i, j].item() != expected: return False\n",
    "        return True\n",
    "\n",
    "x0 = [1, 4, 3, 2]\n",
    "y0 = make_one_hot(x0)\n",
    "print('Here is y0:')\n",
    "print(y0)\n",
    "print('y0 correct: ', check_one_hot(x0, y0))\n",
    "\n",
    "x1 = [1, 3, 5, 7, 6, 2]\n",
    "y1 = make_one_hot(x1)\n",
    "print('\\nHere is y1:')\n",
    "print(y1)\n",
    "print('y1 correct: ', check_one_hot(x1, y1))"
   ]
  },
  {
   "cell_type": "markdown",
   "metadata": {
    "id": "Ad-xqELwyqpN"
   },
   "source": [
    "## Reshaping operations"
   ]
  },
  {
   "cell_type": "markdown",
   "metadata": {
    "id": "Ql9_eXuU4OG8"
   },
   "source": [
    "### View"
   ]
  },
  {
   "cell_type": "markdown",
   "metadata": {
    "id": "xfPb_2BY0HKw"
   },
   "source": [
    "PyTorch provides many ways to manipulate the shapes of tensors. The simplest example is [`.view()`](https://pytorch.org/docs/1.1.0/tensors.html#torch.Tensor.view): This returns a new tensor with the same number of elements as its input, but with a different shape.\n",
    "\n",
    "We can use `.view()` to flatten matrices into vectors, and to convert rank-1 vectors into rank-2 row or column matrices:"
   ]
  },
  {
   "cell_type": "code",
   "execution_count": null,
   "metadata": {
    "id": "kw-M7C_61FZK",
    "colab": {
     "base_uri": "https://localhost:8080/"
    },
    "outputId": "050ddeae-f099-491b-cf87-821eafd3e3e8"
   },
   "outputs": [
    {
     "output_type": "stream",
     "name": "stdout",
     "text": [
      "Original tensor:\n",
      "tensor([[1, 2, 3, 4],\n",
      "        [5, 6, 7, 8]])\n",
      "shape: torch.Size([2, 4])\n",
      "\n",
      "Flattened tensor:\n",
      "tensor([1, 2, 3, 4, 5, 6, 7, 8])\n",
      "shape: torch.Size([8])\n",
      "\n",
      "Row vector:\n",
      "tensor([[1, 2, 3, 4, 5, 6, 7, 8]])\n",
      "shape: torch.Size([1, 8])\n",
      "\n",
      "Column vector:\n",
      "tensor([[1],\n",
      "        [2],\n",
      "        [3],\n",
      "        [4],\n",
      "        [5],\n",
      "        [6],\n",
      "        [7],\n",
      "        [8]])\n",
      "shape: torch.Size([8, 1])\n",
      "\n",
      "Rank 3 tensor:\n",
      "tensor([[[1, 2],\n",
      "         [3, 4]],\n",
      "\n",
      "        [[5, 6],\n",
      "         [7, 8]]])\n",
      "shape: torch.Size([2, 2, 2])\n"
     ]
    }
   ],
   "source": [
    "x0 = torch.tensor([[1, 2, 3, 4], [5, 6, 7, 8]])\n",
    "print('Original tensor:')\n",
    "print(x0)\n",
    "print('shape:', x0.shape)\n",
    "\n",
    "# Flatten x0 into a rank 1 vector of shape (8,)\n",
    "x1 = x0.view(8)\n",
    "print('\\nFlattened tensor:')\n",
    "print(x1)\n",
    "print('shape:', x1.shape)\n",
    "\n",
    "# Convert x1 to a rank 2 \"row vector\" of shape (1, 8)\n",
    "x2 = x1.view(1, 8)\n",
    "print('\\nRow vector:')\n",
    "print(x2)\n",
    "print('shape:', x2.shape)\n",
    "\n",
    "# Convert x1 to a rank 2 \"column vector\" of shape (8, 1)\n",
    "x3 = x1.view(8, 1)\n",
    "print('\\nColumn vector:')\n",
    "print(x3)\n",
    "print('shape:', x3.shape)\n",
    "\n",
    "# Convert x1 to a rank 3 tensor of shape (2, 2, 2):\n",
    "x4 = x1.view(2, 2, 2)\n",
    "print('\\nRank 3 tensor:')\n",
    "print(x4)\n",
    "print('shape:', x4.shape)"
   ]
  },
  {
   "cell_type": "markdown",
   "metadata": {
    "id": "eHsZ8BPF2PEq"
   },
   "source": [
    "As a convenience, calls to `.view()` may include a single -1 argument; this puts enough elements on that dimension so that the output has the same shape as the input. This makes it easy to write some reshape operations in a way that is agnostic to the shape of the tensor:"
   ]
  },
  {
   "cell_type": "code",
   "execution_count": null,
   "metadata": {
    "id": "qNWu-R_J2qFY",
    "colab": {
     "base_uri": "https://localhost:8080/"
    },
    "outputId": "5f5b6425-916b-49d7-8f8c-23dbd2d92698"
   },
   "outputs": [
    {
     "output_type": "stream",
     "name": "stdout",
     "text": [
      "x0:\n",
      "tensor([[1, 2, 3],\n",
      "        [4, 5, 6]])\n",
      "x0_flat:\n",
      "tensor([1, 2, 3, 4, 5, 6])\n",
      "x0_row:\n",
      "tensor([[1, 2, 3, 4, 5, 6]])\n",
      "\n",
      "x1:\n",
      "tensor([[1, 2],\n",
      "        [3, 4]])\n",
      "x1_flat:\n",
      "tensor([1, 2, 3, 4])\n",
      "x1_row:\n",
      "tensor([[1, 2, 3, 4]])\n"
     ]
    }
   ],
   "source": [
    "# We can reuse these functions for tensors of different shapes\n",
    "def flatten(x):\n",
    "    return x.view(-1)\n",
    "\n",
    "def make_row_vec(x):\n",
    "    return x.view(1, -1)\n",
    "\n",
    "x0 = torch.tensor([[1, 2, 3], [4, 5, 6]])\n",
    "x0_flat = flatten(x0)\n",
    "x0_row = make_row_vec(x0)\n",
    "print('x0:')\n",
    "print(x0)\n",
    "print('x0_flat:')\n",
    "print(x0_flat)\n",
    "print('x0_row:')\n",
    "print(x0_row)\n",
    "\n",
    "x1 = torch.tensor([[1, 2], [3, 4]])\n",
    "x1_flat = flatten(x1)\n",
    "x1_row = make_row_vec(x1)\n",
    "print('\\nx1:')\n",
    "print(x1)\n",
    "print('x1_flat:')\n",
    "print(x1_flat)\n",
    "print('x1_row:')\n",
    "print(x1_row)"
   ]
  },
  {
   "cell_type": "markdown",
   "metadata": {
    "id": "DK-ZB5aB2NPq"
   },
   "source": [
    "As its name implies, a tensor returned by `.view()` shares the same data as the input, so changes to one will affect the other and vice-versa:"
   ]
  },
  {
   "cell_type": "code",
   "execution_count": null,
   "metadata": {
    "id": "ebT99rUo2McN",
    "colab": {
     "base_uri": "https://localhost:8080/"
    },
    "outputId": "12e0267e-8807-4609-a3e4-b883dd3d2669"
   },
   "outputs": [
    {
     "output_type": "stream",
     "name": "stdout",
     "text": [
      "x before modifying:\n",
      "tensor([[1, 2, 3],\n",
      "        [4, 5, 6]])\n",
      "x_flat before modifying:\n",
      "tensor([1, 2, 3, 4, 5, 6])\n",
      "\n",
      "x after modifying:\n",
      "tensor([[10, 20,  3],\n",
      "        [ 4,  5,  6]])\n",
      "x_flat after modifying:\n",
      "tensor([10, 20,  3,  4,  5,  6])\n"
     ]
    }
   ],
   "source": [
    "x = torch.tensor([[1, 2, 3], [4, 5, 6]])\n",
    "x_flat = x.view(-1)\n",
    "print('x before modifying:')\n",
    "print(x)\n",
    "print('x_flat before modifying:')\n",
    "print(x_flat)\n",
    "\n",
    "x[0, 0] = 10   # x[0, 0] and x_flat[0] point to the same data\n",
    "x_flat[1] = 20 # x_flat[1] and x[0, 1] point to the same data\n",
    "\n",
    "print('\\nx after modifying:')\n",
    "print(x)\n",
    "print('x_flat after modifying:')\n",
    "print(x_flat)"
   ]
  },
  {
   "cell_type": "markdown",
   "metadata": {
    "id": "Z150qBob4Wkz"
   },
   "source": [
    "### Swapping axes"
   ]
  },
  {
   "cell_type": "markdown",
   "metadata": {
    "id": "TCMDxbyBys78"
   },
   "source": [
    "Another common reshape operation you might want to perform is transposing a matrix. You might be surprised if you try to transpose a matrix with `.view()`: The `view()` function takes elements in row-major order, so **you cannot transpose matrices with `.view()`**.\n",
    "\n",
    "In general, you should only use `.view()` to add new dimensions to a tensor, or to collapse adjacent dimensions of a tensor.\n",
    "\n",
    "For other types of reshape operations, you usually need to use a function that can swap axes of a tensor. The simplest such function is `.t()`, specificially for transposing matrices. It is available both as a [function in the `torch` module](https://pytorch.org/docs/stable/generated/torch.t.html#torch.t), and as a [tensor instance method](https://pytorch.org/docs/stable/tensors.html#torch.Tensor.t):"
   ]
  },
  {
   "cell_type": "code",
   "execution_count": null,
   "metadata": {
    "id": "o_B4NuX6zQm-",
    "colab": {
     "base_uri": "https://localhost:8080/"
    },
    "outputId": "54180083-82e4-4c78-da2b-a0b8ab75abc7"
   },
   "outputs": [
    {
     "output_type": "stream",
     "name": "stdout",
     "text": [
      "Original matrix:\n",
      "tensor([[1, 2, 3],\n",
      "        [4, 5, 6]])\n",
      "\n",
      "Transposing with view DOES NOT WORK!\n",
      "tensor([[1, 2],\n",
      "        [3, 4],\n",
      "        [5, 6]])\n",
      "\n",
      "Transposed matrix:\n",
      "tensor([[1, 4],\n",
      "        [2, 5],\n",
      "        [3, 6]])\n",
      "tensor([[1, 4],\n",
      "        [2, 5],\n",
      "        [3, 6]])\n"
     ]
    }
   ],
   "source": [
    "x = torch.tensor([[1, 2, 3], [4, 5, 6]])\n",
    "print('Original matrix:')\n",
    "print(x)\n",
    "print('\\nTransposing with view DOES NOT WORK!')\n",
    "print(x.view(3, 2))\n",
    "print('\\nTransposed matrix:')\n",
    "print(torch.t(x))\n",
    "print(x.t())"
   ]
  },
  {
   "cell_type": "markdown",
   "metadata": {
    "id": "RN93xo98zn0v"
   },
   "source": [
    "For tensors with more than two dimensions, we can use the function [`torch.transpose`](https://pytorch.org/docs/stable/generated/torch.transpose.html#torch.transpose) to swap arbitrary dimensions, or the [`.permute`](https://pytorch.org/docs/stable/tensors.html#torch.Tensor.permute) method to arbitrarily permute dimensions:"
   ]
  },
  {
   "cell_type": "code",
   "execution_count": null,
   "metadata": {
    "id": "XgN7YB8YzzkA",
    "colab": {
     "base_uri": "https://localhost:8080/"
    },
    "outputId": "806ed5b7-667c-4131-a7c0-a5ee31f4889e"
   },
   "outputs": [
    {
     "output_type": "stream",
     "name": "stdout",
     "text": [
      "Original tensor:\n",
      "tensor([[[ 1,  2,  3,  4],\n",
      "         [ 5,  6,  7,  8],\n",
      "         [ 9, 10, 11, 12]],\n",
      "\n",
      "        [[13, 14, 15, 16],\n",
      "         [17, 18, 19, 20],\n",
      "         [21, 22, 23, 24]]])\n",
      "shape: torch.Size([2, 3, 4])\n",
      "\n",
      "Swap axes 1 and 2:\n",
      "tensor([[[ 1,  5,  9],\n",
      "         [ 2,  6, 10],\n",
      "         [ 3,  7, 11],\n",
      "         [ 4,  8, 12]],\n",
      "\n",
      "        [[13, 17, 21],\n",
      "         [14, 18, 22],\n",
      "         [15, 19, 23],\n",
      "         [16, 20, 24]]])\n",
      "torch.Size([2, 4, 3])\n",
      "\n",
      "Permute axes\n",
      "tensor([[[ 1, 13],\n",
      "         [ 2, 14],\n",
      "         [ 3, 15],\n",
      "         [ 4, 16]],\n",
      "\n",
      "        [[ 5, 17],\n",
      "         [ 6, 18],\n",
      "         [ 7, 19],\n",
      "         [ 8, 20]],\n",
      "\n",
      "        [[ 9, 21],\n",
      "         [10, 22],\n",
      "         [11, 23],\n",
      "         [12, 24]]])\n",
      "shape: torch.Size([3, 4, 2])\n"
     ]
    }
   ],
   "source": [
    "# Create a tensor of shape (2, 3, 4)\n",
    "x0 = torch.tensor([\n",
    "     [[1,  2,  3,  4],\n",
    "      [5,  6,  7,  8],\n",
    "      [9, 10, 11, 12]],\n",
    "     [[13, 14, 15, 16],\n",
    "      [17, 18, 19, 20],\n",
    "      [21, 22, 23, 24]]])\n",
    "print('Original tensor:')\n",
    "print(x0)\n",
    "print('shape:', x0.shape)\n",
    "\n",
    "# Swap axes 1 and 2; shape is (2, 4, 3)\n",
    "x1 = x0.transpose(1, 2)\n",
    "print('\\nSwap axes 1 and 2:')\n",
    "print(x1)\n",
    "print(x1.shape)\n",
    "\n",
    "# Permute axes; the argument (1, 2, 0) means:\n",
    "# - Make the old dimension 1 appear at dimension 0;\n",
    "# - Make the old dimension 2 appear at dimension 1;\n",
    "# - Make the old dimension 0 appear at dimension 2\n",
    "# This results in a tensor of shape (3, 4, 2)\n",
    "x2 = x0.permute(1, 2, 0)\n",
    "print('\\nPermute axes')\n",
    "print(x2)\n",
    "print('shape:', x2.shape)"
   ]
  },
  {
   "cell_type": "markdown",
   "metadata": {
    "id": "f4SJCVbf-bZ0"
   },
   "source": [
    "### Contiguous tensors"
   ]
  },
  {
   "cell_type": "markdown",
   "metadata": {
    "id": "ubOOujO_-pQT"
   },
   "source": [
    "Some combinations of reshaping operations will fail with cryptic errors. The exact reasons for this have to do with the way that tensors and views of tensors are implemented, and are beyond the scope of this assignment. However if you're curious, [this blog post by Edward Yang](http://blog.ezyang.com/2019/05/pytorch-internals/) gives a clear explanation of the problem.\n",
    "\n",
    "What you need to know is that you can typically overcome these sorts of errors by either by calling [`.contiguous()`](https://pytorch.org/docs/stable/tensors.html#torch.Tensor.contiguous) before `.view()`, or by using [`.reshape()`](https://pytorch.org/docs/stable/generated/torch.reshape.html#torch.reshape) instead of `.view()`."
   ]
  },
  {
   "cell_type": "code",
   "execution_count": null,
   "metadata": {
    "id": "YGC6NERq_CT9",
    "colab": {
     "base_uri": "https://localhost:8080/"
    },
    "outputId": "cf8585ff-0849-4237-c0df-cf4a7861f8a9"
   },
   "outputs": [
    {
     "output_type": "stream",
     "name": "stdout",
     "text": [
      "<class 'RuntimeError'> view size is not compatible with input tensor's size and stride (at least one dimension spans across two contiguous subspaces). Use .reshape(...) instead.\n",
      "x1 shape:  torch.Size([8, 3])\n",
      "x2 shape:  torch.Size([8, 3])\n"
     ]
    }
   ],
   "source": [
    "x0 = torch.randn(2, 3, 4)\n",
    "\n",
    "try:\n",
    "  # This sequence of reshape operations will crash\n",
    "  x1 = x0.transpose(1, 2).view(8, 3)\n",
    "except RuntimeError as e:\n",
    "  print(type(e), e)\n",
    "\n",
    "# We can solve the problem using either .contiguous() or .reshape()\n",
    "x1 = x0.transpose(1, 2).contiguous().view(8, 3)\n",
    "x2 = x0.transpose(1, 2).reshape(8, 3)\n",
    "print('x1 shape: ', x1.shape)\n",
    "print('x2 shape: ', x2.shape)"
   ]
  },
  {
   "cell_type": "code",
   "execution_count": null,
   "metadata": {
    "id": "8reAZGzFVTQ3",
    "colab": {
     "base_uri": "https://localhost:8080/"
    },
    "outputId": "1df63166-e3db-417d-da0b-20741e58a4ab"
   },
   "outputs": [
    {
     "output_type": "stream",
     "name": "stdout",
     "text": [
      "Here is x:\n",
      "tensor([ 0,  1,  2,  3,  4,  5,  6,  7,  8,  9, 10, 11, 12, 13, 14, 15, 16, 17,\n",
      "        18, 19, 20, 21, 22, 23])\n",
      "Here is y:\n",
      "tensor([[ 0,  1,  2,  3, 12, 13, 14, 15],\n",
      "        [ 4,  5,  6,  7, 16, 17, 18, 19],\n",
      "        [ 8,  9, 10, 11, 20, 21, 22, 23]])\n",
      "Correct: True\n"
     ]
    }
   ],
   "source": [
    "from pytorch_basic import reshape_practice\n",
    "\n",
    "x = torch.arange(24)\n",
    "print('Here is x:')\n",
    "print(x)\n",
    "y = reshape_practice(x)\n",
    "print('Here is y:')\n",
    "print(y)\n",
    "\n",
    "expected = [\n",
    "    [0, 1,  2,  3, 12, 13, 14, 15],\n",
    "    [4, 5,  6,  7, 16, 17, 18, 19],\n",
    "    [8, 9, 10, 11, 20, 21, 22, 23]]\n",
    "print('Correct:', y.tolist() == expected)"
   ]
  },
  {
   "cell_type": "markdown",
   "metadata": {
    "id": "NgcdvD1evxTQ"
   },
   "source": [
    "## Tensor operations\n",
    "So far we have seen how to construct, access, and reshape tensors. But one of the most important reasons to use tensors is for performing computation! PyTorch provides many different operations to perform computations on tensors."
   ]
  },
  {
   "cell_type": "markdown",
   "metadata": {
    "id": "1BCVlPHZ4_Qz"
   },
   "source": [
    "### Elementwise operations"
   ]
  },
  {
   "cell_type": "markdown",
   "metadata": {
    "id": "f2wbN18E5CKI"
   },
   "source": [
    "Basic mathematical functions operate elementwise on tensors, and are available as operator overloads, as functions in the `torch` module, and as instance methods on torch objects; all produce the same results:"
   ]
  },
  {
   "cell_type": "code",
   "execution_count": null,
   "metadata": {
    "id": "QrMkbk535KRZ",
    "colab": {
     "base_uri": "https://localhost:8080/"
    },
    "outputId": "63245e37-e12b-4123-d2ec-ef259434f232"
   },
   "outputs": [
    {
     "output_type": "stream",
     "name": "stdout",
     "text": [
      "Elementwise sum:\n",
      "tensor([[ 6.,  8., 10., 12.]])\n",
      "tensor([[ 6.,  8., 10., 12.]])\n",
      "tensor([[ 6.,  8., 10., 12.]])\n",
      "\n",
      "Elementwise difference:\n",
      "tensor([[-4., -4., -4., -4.]])\n",
      "tensor([[-4., -4., -4., -4.]])\n",
      "tensor([[-4., -4., -4., -4.]])\n",
      "\n",
      "Elementwise product:\n",
      "tensor([[ 5., 12., 21., 32.]])\n",
      "tensor([[ 5., 12., 21., 32.]])\n",
      "tensor([[ 5., 12., 21., 32.]])\n",
      "\n",
      "Elementwise division\n",
      "tensor([[0.2000, 0.3333, 0.4286, 0.5000]])\n",
      "tensor([[0.2000, 0.3333, 0.4286, 0.5000]])\n",
      "tensor([[0.2000, 0.3333, 0.4286, 0.5000]])\n",
      "\n",
      "Elementwise power\n",
      "tensor([[1.0000e+00, 6.4000e+01, 2.1870e+03, 6.5536e+04]])\n",
      "tensor([[1.0000e+00, 6.4000e+01, 2.1870e+03, 6.5536e+04]])\n",
      "tensor([[1.0000e+00, 6.4000e+01, 2.1870e+03, 6.5536e+04]])\n"
     ]
    }
   ],
   "source": [
    "x = torch.tensor([[1, 2, 3, 4]], dtype=torch.float32)\n",
    "y = torch.tensor([[5, 6, 7, 8]], dtype=torch.float32)\n",
    "\n",
    "# Elementwise sum; all give the same result\n",
    "print('Elementwise sum:')\n",
    "print(x + y)\n",
    "print(torch.add(x, y))\n",
    "print(x.add(y))\n",
    "\n",
    "# Elementwise difference\n",
    "print('\\nElementwise difference:')\n",
    "print(x - y)\n",
    "print(torch.sub(x, y))\n",
    "print(x.sub(y))\n",
    "\n",
    "# Elementwise product\n",
    "print('\\nElementwise product:')\n",
    "print(x * y)\n",
    "print(torch.mul(x, y))\n",
    "print(x.mul(y))\n",
    "\n",
    "# Elementwise division\n",
    "print('\\nElementwise division')\n",
    "print(x / y)\n",
    "print(torch.div(x, y))\n",
    "print(x.div(y))\n",
    "\n",
    "# Elementwise power\n",
    "print('\\nElementwise power')\n",
    "print(x ** y)\n",
    "print(torch.pow(x, y))\n",
    "print(x.pow(y))"
   ]
  },
  {
   "cell_type": "markdown",
   "metadata": {
    "id": "A6WwPJMYlYvN"
   },
   "source": [
    "Torch also provides many standard mathematical functions; these are available both as functions in the `torch` module and as instance methods on tensors:\n",
    "\n",
    "You can find a full list of all available mathematical functions [in the documentation](https://pytorch.org/docs/stable/torch.html#pointwise-ops); many functions in the `torch` module have corresponding instance methods [on tensor objects](https://pytorch.org/docs/stable/tensors.html)."
   ]
  },
  {
   "cell_type": "code",
   "execution_count": null,
   "metadata": {
    "id": "s87mjsnG58vR",
    "colab": {
     "base_uri": "https://localhost:8080/"
    },
    "outputId": "d4e11479-a838-4bb0-981d-898f2b020c13"
   },
   "outputs": [
    {
     "output_type": "stream",
     "name": "stdout",
     "text": [
      "Square root:\n",
      "tensor([[1.0000, 1.4142, 1.7321, 2.0000]])\n",
      "tensor([[1.0000, 1.4142, 1.7321, 2.0000]])\n",
      "\n",
      "Trig functions:\n",
      "tensor([[ 0.8415,  0.9093,  0.1411, -0.7568]])\n",
      "tensor([[ 0.8415,  0.9093,  0.1411, -0.7568]])\n",
      "tensor([[ 0.5403, -0.4161, -0.9900, -0.6536]])\n",
      "tensor([[ 0.5403, -0.4161, -0.9900, -0.6536]])\n"
     ]
    }
   ],
   "source": [
    "x = torch.tensor([[1, 2, 3, 4]], dtype=torch.float32)\n",
    "\n",
    "print('Square root:')\n",
    "print(torch.sqrt(x))\n",
    "print(x.sqrt())\n",
    "\n",
    "print('\\nTrig functions:')\n",
    "print(torch.sin(x))\n",
    "print(x.sin())\n",
    "print(torch.cos(x))\n",
    "print(x.cos())"
   ]
  },
  {
   "cell_type": "markdown",
   "metadata": {
    "id": "yDyH9USAuyZ-"
   },
   "source": [
    "### Reduction operations"
   ]
  },
  {
   "cell_type": "markdown",
   "metadata": {
    "id": "wbHP9SpZHoMO"
   },
   "source": [
    "So far we've seen basic arithmetic operations on tensors that operate elementwise. We may sometimes want to perform operations that aggregate over part or all of a tensor, such as a summation; these are called **reduction** operations.\n",
    "\n",
    "Like the elementwise operations above, most reduction operations are available both as functions in the `torch` module and as instance methods on `tensor` objects.\n",
    "\n",
    "The simplest reduction operation is summation. We can use the [`.sum()`](https://pytorch.org/docs/stable/tensors.html#torch.Tensor.sum) function (or eqivalently [`torch.sum`](https://pytorch.org/docs/stable/generated/torch.sum.html)) to reduce either an entire tensor, or to reduce along only one dimension of the tensor using the `dim` argument:"
   ]
  },
  {
   "cell_type": "code",
   "execution_count": null,
   "metadata": {
    "id": "LlmsYJWUE2r3",
    "colab": {
     "base_uri": "https://localhost:8080/"
    },
    "outputId": "8010c3e7-bf47-4778-96ea-00a0b3f8d4e4"
   },
   "outputs": [
    {
     "output_type": "stream",
     "name": "stdout",
     "text": [
      "Original tensor:\n",
      "tensor([[1., 2., 3.],\n",
      "        [4., 5., 6.]])\n",
      "\n",
      "Sum over entire tensor:\n",
      "tensor(21.)\n",
      "tensor(21.)\n",
      "\n",
      "Sum of each row:\n",
      "tensor([5., 7., 9.])\n",
      "tensor([5., 7., 9.])\n",
      "\n",
      "Sum of each column:\n",
      "tensor([ 6., 15.])\n",
      "tensor([ 6., 15.])\n"
     ]
    }
   ],
   "source": [
    "x = torch.tensor([[1, 2, 3],\n",
    "                  [4, 5, 6]], dtype=torch.float32)\n",
    "print('Original tensor:')\n",
    "print(x)\n",
    "\n",
    "print('\\nSum over entire tensor:')\n",
    "print(torch.sum(x))\n",
    "print(x.sum())\n",
    "\n",
    "# We can sum over each row:\n",
    "print('\\nSum of each row:')\n",
    "print(torch.sum(x, dim=0))\n",
    "print(x.sum(dim=0))\n",
    "\n",
    "# Sum over each column:\n",
    "print('\\nSum of each column:')\n",
    "print(torch.sum(x, dim=1))\n",
    "print(x.sum(dim=1))"
   ]
  },
  {
   "cell_type": "markdown",
   "metadata": {
    "id": "DzKio_3Quz5a"
   },
   "source": [
    "Other useful reduction operations include [`mean`](https://pytorch.org/docs/stable/torch.html#torch.mean), [`min`](https://pytorch.org/docs/stable/torch.html#torch.min), and [`max`](https://pytorch.org/docs/stable/torch.html#torch.max). You can find a full list of all available reduction operations [in the documentation](https://pytorch.org/docs/stable/torch.html#reduction-ops).\n",
    "\n",
    "Some reduction operations return more than one value; for example `min` returns both the minimum value over the specified dimension, as well as the index where the minimum value occurs:"
   ]
  },
  {
   "cell_type": "code",
   "execution_count": null,
   "metadata": {
    "id": "TFD7aT54H4ik",
    "colab": {
     "base_uri": "https://localhost:8080/"
    },
    "outputId": "cdbedcfe-295e-42ab-eb63-97a8c136bed5"
   },
   "outputs": [
    {
     "output_type": "stream",
     "name": "stdout",
     "text": [
      "Original tensor:\n",
      "tensor([[2., 4., 3., 5.],\n",
      "        [3., 3., 5., 2.]]) torch.Size([2, 4])\n",
      "\n",
      "Overall minimum:  tensor(2.)\n",
      "\n",
      "Minimum along each column:\n",
      "values: tensor([2., 3., 3., 2.])\n",
      "idxs: tensor([0, 1, 0, 1])\n",
      "\n",
      "Minimum along each row:\n",
      "values: tensor([2., 2.])\n",
      "idxs: tensor([0, 3])\n"
     ]
    }
   ],
   "source": [
    "x = torch.tensor([[2, 4, 3, 5], [3, 3, 5, 2]], dtype=torch.float32)\n",
    "print('Original tensor:')\n",
    "print(x, x.shape)\n",
    "\n",
    "# Finding the overall minimum only returns a single value\n",
    "print('\\nOverall minimum: ', x.min())\n",
    "\n",
    "# Compute the minimum along each column; we get both the value and location:\n",
    "# The minimum of the first column is 2, and it appears at index 0;\n",
    "# the minimum of the second column is 3 and it appears at index 1; etc\n",
    "col_min_vals, col_min_idxs = x.min(dim=0)\n",
    "print('\\nMinimum along each column:')\n",
    "print('values:', col_min_vals)\n",
    "print('idxs:', col_min_idxs)\n",
    "\n",
    "# Compute the minimum along each row; we get both the value and the minimum\n",
    "row_min_vals, row_min_idxs = x.min(dim=1)\n",
    "print('\\nMinimum along each row:')\n",
    "print('values:', row_min_vals)\n",
    "print('idxs:', row_min_idxs)"
   ]
  },
  {
   "cell_type": "markdown",
   "metadata": {
    "id": "XFwYRESoFr4t"
   },
   "source": [
    "Reduction operations *reduce* the rank of tensors: the dimension over which you perform the reduction will be removed from the shape of the output. If you pass `keepdim=True` to a reduction operation, the specified dimension will not be removed; the output tensor will instead have a shape of 1 in that dimension.\n",
    "\n",
    "When you are working with multidimensional tensors, thinking about rows and columns can become confusing; instead it's more useful to think about the shape that will result from each operation. For example:"
   ]
  },
  {
   "cell_type": "code",
   "execution_count": null,
   "metadata": {
    "id": "sjcAveyJFqm7",
    "colab": {
     "base_uri": "https://localhost:8080/"
    },
    "outputId": "c62c9d94-e49a-43c6-edf2-3e24fd23061b"
   },
   "outputs": [
    {
     "output_type": "stream",
     "name": "stdout",
     "text": [
      "torch.Size([128, 10, 3, 64, 64])\n",
      "torch.Size([128, 3, 64, 64])\n",
      "torch.Size([128, 3, 64])\n",
      "torch.Size([128, 1, 64])\n"
     ]
    }
   ],
   "source": [
    "# Create a tensor of shape (128, 10, 3, 64, 64)\n",
    "x = torch.randn(128, 10, 3, 64, 64)\n",
    "print(x.shape)\n",
    "\n",
    "# Take the mean over dimension 1; shape is now (128, 3, 64, 64)\n",
    "x = x.mean(dim=1)\n",
    "print(x.shape)\n",
    "\n",
    "# Take the sum over dimension 2; shape is now (128, 3, 64)\n",
    "x = x.sum(dim=2)\n",
    "print(x.shape)\n",
    "\n",
    "# Take the mean over dimension 1, but keep the dimension from being eliminated\n",
    "# by passing keepdim=True; shape is now (128, 1, 64)\n",
    "x = x.mean(dim=1, keepdim=True)\n",
    "print(x.shape)"
   ]
  },
  {
   "cell_type": "code",
   "execution_count": null,
   "metadata": {
    "id": "aaJzt-Y62blF",
    "colab": {
     "base_uri": "https://localhost:8080/"
    },
    "outputId": "9e1cf3d2-45d0-41dd-cbb4-eb7e86bced7b"
   },
   "outputs": [
    {
     "output_type": "stream",
     "name": "stdout",
     "text": [
      "Here is x0:\n",
      "tensor([[10, 20, 30],\n",
      "        [ 2,  5,  1]])\n",
      "Here is y0:\n",
      "tensor([[ 0, 20, 30],\n",
      "        [ 2,  5,  0]])\n",
      "y0 correct:  True\n",
      "\n",
      "Here is x1:\n",
      "tensor([[ 2,  5, 10, -1],\n",
      "        [ 1,  3,  2,  4],\n",
      "        [ 5,  6,  2, 10]])\n",
      "Here is y1:\n",
      "tensor([[ 2,  5, 10,  0],\n",
      "        [ 0,  3,  2,  4],\n",
      "        [ 5,  6,  0, 10]])\n",
      "y1 correct:  True\n"
     ]
    }
   ],
   "source": [
    "from pytorch_basic import zero_row_min\n",
    "\n",
    "x0 = torch.tensor([[10, 20, 30], [2, 5, 1]])\n",
    "print('Here is x0:')\n",
    "print(x0)\n",
    "y0 = zero_row_min(x0)\n",
    "print('Here is y0:')\n",
    "print(y0)\n",
    "expected = [[0, 20, 30], [2, 5, 0]]\n",
    "y0_correct = torch.is_tensor(y0) and y0.tolist() == expected\n",
    "print('y0 correct: ', y0_correct)\n",
    "\n",
    "x1 = torch.tensor([[2, 5, 10, -1], [1, 3, 2, 4], [5, 6, 2, 10]])\n",
    "print('\\nHere is x1:')\n",
    "print(x1)\n",
    "y1 = zero_row_min(x1)\n",
    "print('Here is y1:')\n",
    "print(y1)\n",
    "expected = [[2, 5, 10, 0], [0, 3, 2, 4], [5, 6, 0, 10]]\n",
    "y1_correct = torch.is_tensor(y1) and y1.tolist() == expected\n",
    "print('y1 correct: ', y1_correct)"
   ]
  },
  {
   "cell_type": "markdown",
   "metadata": {
    "id": "lRyLyXU2u29N"
   },
   "source": [
    "### Matrix operations"
   ]
  },
  {
   "cell_type": "markdown",
   "metadata": {
    "id": "7DwjbapG6MM_"
   },
   "source": [
    "Note that unlike MATLAB, * is elementwise multiplication, not matrix multiplication. PyTorch provides a number of linear algebra functions that compute different types of vector and matrix products. The most commonly used are:\n",
    "\n",
    "- [`torch.dot`](https://pytorch.org/docs/stable/generated/torch.dot.html#torch.dot): Computes inner product of vectors\n",
    "- [`torch.mm`](https://pytorch.org/docs/stable/generated/torch.mm.html#torch.mm): Computes matrix-matrix products\n",
    "- [`torch.mv`](https://pytorch.org/docs/stable/generated/torch.mv.html#torch.mv): Computes matrix-vector products\n",
    "- [`torch.addmm`](https://pytorch.org/docs/stable/generated/torch.addmm.html#torch.addmm) / [`torch.addmv`](https://pytorch.org/docs/stable/generated/torch.addmv.html#torch.addmv): Computes matrix-matrix and matrix-vector multiplications plus a bias\n",
    "- [`torch.bmm`](https://pytorch.org/docs/stable/generated/torch.bmm.html#torch.bmm) / [`torch.baddmm`](https://pytorch.org/docs/stable/generated/torch.baddbmm.html#torch.baddbmm): Batched versions of `torch.mm` and `torch.addmm`, respectively\n",
    "- [`torch.matmul`](https://pytorch.org/docs/stable/generated/torch.matmul.html#torch.matmul): General matrix product that performs different operations depending on the rank of the inputs. Confusingly, this is similar to `np.dot` in numpy.\n",
    "\n",
    "You can find a full list of the available linear algebra operators [in the documentation](https://pytorch.org/docs/stable/torch.html#blas-and-lapack-operations).\n",
    "\n",
    "Here is an example of using `torch.dot` to compute inner products. Like the other mathematical operators we've seen, most linear algebra operators are available both as functions in the `torch` module and as instance methods of tensors:"
   ]
  },
  {
   "cell_type": "code",
   "execution_count": null,
   "metadata": {
    "id": "TRUYW2as6ZCh",
    "colab": {
     "base_uri": "https://localhost:8080/"
    },
    "outputId": "a4aee596-8588-4ab0-c699-58c585515c1f"
   },
   "outputs": [
    {
     "output_type": "stream",
     "name": "stdout",
     "text": [
      "Dot products:\n",
      "tensor(219.)\n",
      "tensor(219.)\n",
      "1D tensors expected, but got 2D and 2D tensors\n",
      "\n",
      "Matrix-matrix product:\n",
      "tensor([[19., 22.],\n",
      "        [43., 50.]])\n",
      "tensor([[19., 22.],\n",
      "        [43., 50.]])\n"
     ]
    }
   ],
   "source": [
    "v = torch.tensor([9,10], dtype=torch.float32)\n",
    "w = torch.tensor([11, 12], dtype=torch.float32)\n",
    "\n",
    "# Inner product of vectors\n",
    "print('Dot products:')\n",
    "print(torch.dot(v, w))\n",
    "print(v.dot(w))\n",
    "\n",
    "# dot only works for vectors -- it will give an error for tensors of rank > 1\n",
    "x = torch.tensor([[1,2],[3,4]], dtype=torch.float32)\n",
    "y = torch.tensor([[5,6],[7,8]], dtype=torch.float32)\n",
    "try:\n",
    "  print(x.dot(y))\n",
    "except RuntimeError as e:\n",
    "  print(e)\n",
    "\n",
    "# Instead we use mm for matrix-matrix products:\n",
    "print('\\nMatrix-matrix product:')\n",
    "print(torch.mm(x, y))\n",
    "print(x.mm(y))"
   ]
  },
  {
   "cell_type": "markdown",
   "metadata": {
    "id": "MQRxK34KdHm3"
   },
   "source": [
    "With all the different linear algebra operators that PyTorch provides, there is usually more than one way to compute something. For example to compute matrix-vector products we can use `torch.mv`; we can reshape the vector to have rank 2 and use `torch.mm`; or we can use `torch.matmul`. All give the same results, but the outputs might have different ranks:"
   ]
  },
  {
   "cell_type": "code",
   "execution_count": null,
   "metadata": {
    "id": "qqEzcnHkdRYA",
    "colab": {
     "base_uri": "https://localhost:8080/"
    },
    "outputId": "d90ff629-5ef0-4fdf-f4cc-edc70b00466e"
   },
   "outputs": [
    {
     "output_type": "stream",
     "name": "stdout",
     "text": [
      "Here is x (rank 2):\n",
      "tensor([[1., 2.],\n",
      "        [3., 4.]])\n",
      "\n",
      "Here is v (rank 1):\n",
      "tensor([ 9., 10.])\n",
      "\n",
      "Matrix-vector product with torch.mv (rank 1 output)\n",
      "tensor([29., 67.])\n",
      "tensor([29., 67.])\n",
      "\n",
      "Matrix-vector product with torch.mm (rank 2 output)\n",
      "tensor([[29.],\n",
      "        [67.]])\n",
      "tensor([[29.],\n",
      "        [67.]])\n",
      "\n",
      "Matrix-vector product with torch.matmul (rank 1 output)\n",
      "tensor([29., 67.])\n",
      "tensor([29., 67.])\n"
     ]
    }
   ],
   "source": [
    "print('Here is x (rank 2):')\n",
    "print(x)\n",
    "print('\\nHere is v (rank 1):')\n",
    "print(v)\n",
    "\n",
    "# Matrix-vector multiply with torch.mv produces a rank-1 output\n",
    "print('\\nMatrix-vector product with torch.mv (rank 1 output)')\n",
    "print(torch.mv(x, v))\n",
    "print(x.mv(v))\n",
    "\n",
    "# We can reshape the vector to have rank 2 and use torch.mm to perform\n",
    "# matrix-vector products, but the result will have rank 2\n",
    "print('\\nMatrix-vector product with torch.mm (rank 2 output)')\n",
    "print(torch.mm(x, v.view(2, 1)))\n",
    "print(x.mm(v.view(2, 1)))\n",
    "\n",
    "print('\\nMatrix-vector product with torch.matmul (rank 1 output)')\n",
    "print(torch.matmul(x, v))\n",
    "print(x.matmul(v))"
   ]
  },
  {
   "cell_type": "code",
   "execution_count": null,
   "metadata": {
    "id": "sZD1VQHKVTRQ",
    "colab": {
     "base_uri": "https://localhost:8080/"
    },
    "outputId": "9829a680-84a0-42cd-c774-c190622718a7"
   },
   "outputs": [
    {
     "output_type": "stream",
     "name": "stdout",
     "text": [
      "z1 difference:  0.0\n",
      "z1 difference within tolerance:  True\n",
      "\n",
      "z2 difference:  2.384185791015625e-07\n",
      "z2 difference within tolerance:  True\n"
     ]
    }
   ],
   "source": [
    "from pytorch_basic import batched_matrix_multiply\n",
    "\n",
    "B, N, M, P = 2, 3, 5, 4\n",
    "x = torch.randn(B, N, M)\n",
    "y = torch.randn(B, M, P)\n",
    "z_expected = torch.stack([x[0] @ y[0], x[1] @ y[1]])\n",
    "\n",
    "# The two may not return exactly the same result; different linear algebra\n",
    "# routines often return slightly different results due to the fact that\n",
    "# floating-point math is non-exact and non-associative.\n",
    "z1 = batched_matrix_multiply(x, y, use_loop=True)\n",
    "z1_diff = (z1 - z_expected).abs().max().item()\n",
    "print('z1 difference: ', z1_diff)\n",
    "print('z1 difference within tolerance: ', z1_diff < 1e-6)\n",
    "\n",
    "z2 = batched_matrix_multiply(x, y, use_loop=False)\n",
    "z2_diff = (z2 - z_expected).abs().max().item()\n",
    "print('\\nz2 difference: ', z2_diff)\n",
    "print('z2 difference within tolerance: ', z2_diff < 1e-6)"
   ]
  },
  {
   "cell_type": "markdown",
   "metadata": {
    "id": "mbCVOr2sVTRR"
   },
   "source": [
    "### Vectorization\n",
    "In many cases, avoiding explicit Python loops in your code and instead using PyTorch operators to handle looping internally will cause your code to run a lot faster. This style of writing code, called **vectorization**, avoids overhead from the Python interpreter, and can also better parallelize the computation (e.g. across CPU cores, on on GPUs). Whenever possible you should strive to write vectorized code.\n",
    "\n",
    " the following the compare the speed of the `batched_matrix_multiply` with `use_loop=True` and with `use_loop=False`."
   ]
  },
  {
   "cell_type": "code",
   "execution_count": null,
   "metadata": {
    "id": "a-acTIOpVTRR",
    "colab": {
     "base_uri": "https://localhost:8080/",
     "height": 449
    },
    "outputId": "b444f30c-f7f2-47ce-f16e-377e2dcebf2b"
   },
   "outputs": [
    {
     "output_type": "display_data",
     "data": {
      "text/plain": [
       "<Figure size 640x480 with 1 Axes>"
      ],
      "image/png": "[encoded data removed]"
     },
     "metadata": {}
    }
   ],
   "source": [
    "import time\n",
    "import matplotlib.pyplot as plt\n",
    "from pytorch_basic import batched_matrix_multiply\n",
    "\n",
    "N, M, P = 100, 100, 100\n",
    "loop_times = []\n",
    "no_loop_times = []\n",
    "Bs = list(range(5, 100, 5))\n",
    "num_trials = 20\n",
    "for B in Bs:\n",
    "    loop_trials = []\n",
    "    no_loop_trials = []\n",
    "    for trial in range(num_trials):\n",
    "        x = torch.randn(B, N, M)\n",
    "        y = torch.randn(B, M, P)\n",
    "        t0 = time.time()\n",
    "        z1 = batched_matrix_multiply(x, y, use_loop=True)\n",
    "        t1 = time.time()\n",
    "        z2 = batched_matrix_multiply(x, y, use_loop=False)\n",
    "        t2 = time.time()\n",
    "        loop_trials.append(t1 - t0)\n",
    "        no_loop_trials.append(t2 - t1)\n",
    "    loop_mean = torch.tensor(loop_trials).mean().item()\n",
    "    no_loop_mean = torch.tensor(no_loop_trials).mean().item()\n",
    "    loop_times.append(loop_mean)\n",
    "    no_loop_times.append(no_loop_mean)\n",
    "\n",
    "plt.plot(Bs, loop_times, 'o-', label='use_loop=True')\n",
    "plt.plot(Bs, no_loop_times, 'o-', label='use_loop=False')\n",
    "plt.xlabel('Batch size B')\n",
    "plt.ylabel('Runtime (s)')\n",
    "plt.legend()\n",
    "plt.show()"
   ]
  },
  {
   "cell_type": "markdown",
   "metadata": {
    "id": "UISn2pcf9QjY"
   },
   "source": [
    "## Broadcasting"
   ]
  },
  {
   "cell_type": "markdown",
   "metadata": {
    "id": "fTj6f8VN9UZg"
   },
   "source": [
    "Broadcasting is a powerful mechanism that allows PyTorch to work with arrays of different shapes when performing arithmetic operations. Frequently we have a smaller tensor and a larger tensor, and we want to use the smaller tensor multiple times to perform some operation on the larger tensor.\n",
    "\n",
    "For example, suppose that we want to add a constant vector to each row of a tensor. We could do it like this:\n"
   ]
  },
  {
   "cell_type": "code",
   "execution_count": null,
   "metadata": {
    "id": "kF0Dhzlu9fef",
    "colab": {
     "base_uri": "https://localhost:8080/"
    },
    "outputId": "a11f8e84-cbe9-4dd0-bc35-a114b702914d"
   },
   "outputs": [
    {
     "output_type": "stream",
     "name": "stdout",
     "text": [
      "tensor([[ 2,  2,  4],\n",
      "        [ 5,  5,  7],\n",
      "        [ 8,  8, 10],\n",
      "        [11, 11, 13]])\n"
     ]
    }
   ],
   "source": [
    "# We will add the vector v to each row of the matrix x,\n",
    "# storing the result in the matrix y\n",
    "x = torch.tensor([[1,2,3], [4,5,6], [7,8,9], [10, 11, 12]])\n",
    "v = torch.tensor([1, 0, 1])\n",
    "y = torch.zeros_like(x)   # Create an empty matrix with the same shape as x\n",
    "\n",
    "# Add the vector v to each row of the matrix x with an explicit loop\n",
    "for i in range(4):\n",
    "    y[i, :] = x[i, :] + v\n",
    "\n",
    "print(y)"
   ]
  },
  {
   "cell_type": "markdown",
   "metadata": {
    "id": "7gXpoBKE9vp7"
   },
   "source": [
    "This works; however when the tensor x is very large, computing an explicit loop in Python could be slow. Note that adding the vector v to each row of the tensor x is equivalent to forming a tensor vv by stacking multiple copies of v vertically, then performing elementwise summation of x and vv. We could implement this approach like this:\n"
   ]
  },
  {
   "cell_type": "code",
   "execution_count": null,
   "metadata": {
    "id": "_2_5cKeu94c2",
    "colab": {
     "base_uri": "https://localhost:8080/"
    },
    "outputId": "26e38f89-507e-4707-ef4a-cc896a168680"
   },
   "outputs": [
    {
     "output_type": "stream",
     "name": "stdout",
     "text": [
      "tensor([[1, 0, 1],\n",
      "        [1, 0, 1],\n",
      "        [1, 0, 1],\n",
      "        [1, 0, 1]])\n"
     ]
    }
   ],
   "source": [
    "vv = v.repeat((4, 1))  # Stack 4 copies of v on top of each other\n",
    "print(vv)              # Prints \"[[1 0 1]\n",
    "                       #          [1 0 1]\n",
    "                       #          [1 0 1]\n",
    "                       #          [1 0 1]]\""
   ]
  },
  {
   "cell_type": "code",
   "execution_count": null,
   "metadata": {
    "id": "1KiRj23p-QIs",
    "colab": {
     "base_uri": "https://localhost:8080/"
    },
    "outputId": "3b2df953-24cd-4af7-bd4a-5fa9bf15e052"
   },
   "outputs": [
    {
     "output_type": "stream",
     "name": "stdout",
     "text": [
      "tensor([[ 2,  2,  4],\n",
      "        [ 5,  5,  7],\n",
      "        [ 8,  8, 10],\n",
      "        [11, 11, 13]])\n"
     ]
    }
   ],
   "source": [
    "y = x + vv  # Add x and vv elementwise\n",
    "print(y)"
   ]
  },
  {
   "cell_type": "markdown",
   "metadata": {
    "id": "A7NNlSsHBKib"
   },
   "source": [
    "PyTorch broadcasting allows us to perform this computation without actually creating multiple copies of v. Consider this version, using broadcasting:"
   ]
  },
  {
   "cell_type": "code",
   "execution_count": null,
   "metadata": {
    "id": "2jIiZc-ABBnt",
    "colab": {
     "base_uri": "https://localhost:8080/"
    },
    "outputId": "13709117-3c61-4ace-d991-9ea184d20b5b"
   },
   "outputs": [
    {
     "output_type": "stream",
     "name": "stdout",
     "text": [
      "tensor([[ 2,  2,  4],\n",
      "        [ 5,  5,  7],\n",
      "        [ 8,  8, 10],\n",
      "        [11, 11, 13]])\n"
     ]
    }
   ],
   "source": [
    "# We will add the vector v to each row of the matrix x,\n",
    "# storing the result in the matrix y\n",
    "x = torch.tensor([[1,2,3], [4,5,6], [7,8,9], [10, 11, 12]])\n",
    "v = torch.tensor([1, 0, 1])\n",
    "y = x + v  # Add v to each row of x using broadcasting\n",
    "print(y)"
   ]
  },
  {
   "cell_type": "markdown",
   "metadata": {
    "id": "HuUBX8YnBSIG"
   },
   "source": [
    "The line y = x + v works even though x has shape (4, 3) and v has shape (3,) due to broadcasting; this line works as if v actually had shape (4, 3), where each row was a copy of v, and the sum was performed elementwise.\n",
    "\n",
    "Broadcasting two tensors together follows these rules:\n",
    "\n",
    "1.   If the tensors do not have the same rank, prepend the shape of the lower rank array with 1s until both shapes have the same length.\n",
    "2.   The two tensors are said to be *compatible* in a dimension if they have the same size in the dimension, or if one of the tensors has size 1 in that dimension.\n",
    "3.   The tensors can be broadcast together if they are compatible in all dimensions.\n",
    "4.   After broadcasting, each tensor behaves as if it had shape equal to the elementwise maximum of shapes of the two input tensors.\n",
    "5.   In any dimension where one tensor had size 1 and the other tensor had size greater than 1, the first tensor behaves as if it were copied along that dimension\n",
    "\n",
    "If this explanation does not make sense, try reading the explanation from the [documentation](https://pytorch.org/docs/stable/notes/broadcasting.html).\n",
    "\n",
    "Broadcasting usually happens implicitly inside many PyTorch operators. However we can also broadcast explicitly using the function [`torch.broadcast_tensors`](https://pytorch.org/docs/stable/generated/torch.broadcast_tensors.html#torch.broadcast_tensors):"
   ]
  },
  {
   "cell_type": "code",
   "execution_count": null,
   "metadata": {
    "id": "YIlIBao3VTRc",
    "colab": {
     "base_uri": "https://localhost:8080/"
    },
    "outputId": "5a6ec76c-fff8-4966-85c7-2fcd101766fc"
   },
   "outputs": [
    {
     "output_type": "stream",
     "name": "stdout",
     "text": [
      "Here is x (before broadcasting):\n",
      "tensor([[ 1,  2,  3],\n",
      "        [ 4,  5,  6],\n",
      "        [ 7,  8,  9],\n",
      "        [10, 11, 12]])\n",
      "x.shape:  torch.Size([4, 3])\n",
      "\n",
      "Here is v (before broadcasting):\n",
      "tensor([1, 0, 1])\n",
      "v.shape:  torch.Size([3])\n",
      "Here is xx (after) broadcasting):\n",
      "tensor([[ 1,  2,  3],\n",
      "        [ 4,  5,  6],\n",
      "        [ 7,  8,  9],\n",
      "        [10, 11, 12]])\n",
      "xx.shape:  torch.Size([4, 3])\n",
      "\n",
      "Here is vv (after broadcasting):\n",
      "tensor([[1, 0, 1],\n",
      "        [1, 0, 1],\n",
      "        [1, 0, 1],\n",
      "        [1, 0, 1]])\n",
      "vv.shape:  torch.Size([4, 3])\n"
     ]
    }
   ],
   "source": [
    "x = torch.tensor([[1, 2, 3], [4, 5, 6], [7, 8, 9], [10, 11, 12]])\n",
    "v = torch.tensor([1, 0, 1])\n",
    "print('Here is x (before broadcasting):')\n",
    "print(x)\n",
    "print('x.shape: ', x.shape)\n",
    "print('\\nHere is v (before broadcasting):')\n",
    "print(v)\n",
    "print('v.shape: ', v.shape)\n",
    "\n",
    "xx, vv = torch.broadcast_tensors(x, v)\n",
    "print('Here is xx (after) broadcasting):')\n",
    "print(xx)\n",
    "print('xx.shape: ', x.shape)\n",
    "print('\\nHere is vv (after broadcasting):')\n",
    "print(vv)\n",
    "print('vv.shape: ', vv.shape)"
   ]
  },
  {
   "cell_type": "markdown",
   "metadata": {
    "id": "PWXtBo6eVTRf"
   },
   "source": [
    "Notice that after broadcasting, `x` remains the same but `v` has an extra dimension prepended to its shape, and it is duplicated to have the same shape as `x`; since they have the same shape after broadcasting they can be added elementwise.\n",
    "\n",
    "Not all functions support broadcasting. You can find functions that does not support broadcasting from the official docs. (e.g. [`torch.mm`](https://pytorch.org/docs/stable/torch.html#torch.mm) does not support broadcasting, but [`torch.matmul`](https://pytorch.org/docs/1.1.0/torch.html#torch.matmul) does)\n",
    "\n",
    "Broadcasting can let us easily implement many different operations. For example we can compute an outer product of vectors:"
   ]
  },
  {
   "cell_type": "code",
   "execution_count": null,
   "metadata": {
    "id": "_W-k7-hpCwlT",
    "colab": {
     "base_uri": "https://localhost:8080/"
    },
    "outputId": "d5d616a2-d390-4f18-cadc-6dac6ef6c763"
   },
   "outputs": [
    {
     "output_type": "stream",
     "name": "stdout",
     "text": [
      "tensor([[ 4,  5],\n",
      "        [ 8, 10],\n",
      "        [12, 15]])\n"
     ]
    }
   ],
   "source": [
    "# Compute outer product of vectors\n",
    "v = torch.tensor([1, 2, 3])  # v has shape (3,)\n",
    "w = torch.tensor([4, 5])     # w has shape (2,)\n",
    "# To compute an outer product, we first reshape v to be a column\n",
    "# vector of shape (3, 1); we can then broadcast it against w to yield\n",
    "# an output of shape (3, 2), which is the outer product of v and w:\n",
    "print(v.view(3, 1) * w)"
   ]
  },
  {
   "cell_type": "markdown",
   "metadata": {
    "id": "6a9EcX20moP_"
   },
   "source": [
    "We can add a vector to each row of a matrix:"
   ]
  },
  {
   "cell_type": "code",
   "execution_count": null,
   "metadata": {
    "id": "9bhmBiwcDF1B",
    "colab": {
     "base_uri": "https://localhost:8080/"
    },
    "outputId": "5b561108-6bbf-49aa-d2e4-2138e9bb5f12"
   },
   "outputs": [
    {
     "output_type": "stream",
     "name": "stdout",
     "text": [
      "Here is the matrix:\n",
      "tensor([[1, 2, 3],\n",
      "        [4, 5, 6]])\n",
      "\n",
      "Here is the vector:\n",
      "tensor([1, 2, 3])\n",
      "\n",
      "Add the vector to each row of the matrix:\n",
      "tensor([[2, 4, 6],\n",
      "        [5, 7, 9]])\n"
     ]
    }
   ],
   "source": [
    "x = torch.tensor([[1, 2, 3], [4, 5, 6]])  # x has shape (2, 3)\n",
    "v = torch.tensor([1, 2, 3])               # v has shape (3,)\n",
    "print('Here is the matrix:')\n",
    "print(x)\n",
    "print('\\nHere is the vector:')\n",
    "print(v)\n",
    "\n",
    "# x has shape (2, 3) and v has shape (3,) so they broadcast to (2, 3),\n",
    "# giving the following matrix:\n",
    "print('\\nAdd the vector to each row of the matrix:')\n",
    "print(x + v)"
   ]
  },
  {
   "cell_type": "markdown",
   "metadata": {
    "id": "jYloJIvmm_Me"
   },
   "source": [
    "We can add a vector to each column of a matrix:"
   ]
  },
  {
   "cell_type": "code",
   "execution_count": null,
   "metadata": {
    "id": "TDTFKACqDK22",
    "colab": {
     "base_uri": "https://localhost:8080/"
    },
    "outputId": "285df32d-b473-4cb5-b8a2-767deee5e229"
   },
   "outputs": [
    {
     "output_type": "stream",
     "name": "stdout",
     "text": [
      "Here is the matrix:\n",
      "tensor([[1, 2, 3],\n",
      "        [4, 5, 6]])\n",
      "\n",
      "Here is the vector:\n",
      "tensor([4, 5])\n",
      "\n",
      "Add the vector to each column of the matrix:\n",
      "tensor([[ 5,  6,  7],\n",
      "        [ 9, 10, 11]])\n",
      "tensor([[ 5,  6,  7],\n",
      "        [ 9, 10, 11]])\n"
     ]
    }
   ],
   "source": [
    "x = torch.tensor([[1, 2, 3], [4, 5, 6]])  # x has shape (2, 3)\n",
    "w = torch.tensor([4, 5])                  # w has shape (2,)\n",
    "print('Here is the matrix:')\n",
    "print(x)\n",
    "print('\\nHere is the vector:')\n",
    "print(w)\n",
    "\n",
    "# x has shape (2, 3) and w has shape (2,). We reshape w to (2, 1);\n",
    "# then when we add the two the result broadcasts to (2, 3):\n",
    "print('\\nAdd the vector to each column of the matrix:')\n",
    "print(x + w.view(-1, 1))\n",
    "\n",
    "# Another solution is the following:\n",
    "# 1. Transpose x so it has shape (3, 2)\n",
    "# 2. Since w has shape (2,), adding will broadcast to (3, 2)\n",
    "# 3. Transpose the result, resulting in a shape (2, 3)\n",
    "print((x.t() + w).t())"
   ]
  },
  {
   "cell_type": "markdown",
   "metadata": {
    "id": "9717YmBBpBfr"
   },
   "source": [
    "Multiply a tensor by a set of constants:"
   ]
  },
  {
   "cell_type": "code",
   "execution_count": null,
   "metadata": {
    "id": "4UjWDp_XDc_-",
    "colab": {
     "base_uri": "https://localhost:8080/"
    },
    "outputId": "8b78a196-4464-4afd-cf0f-10b577e38692"
   },
   "outputs": [
    {
     "output_type": "stream",
     "name": "stdout",
     "text": [
      "Here is the matrix:\n",
      "tensor([[1, 2, 3],\n",
      "        [4, 5, 6]])\n",
      "\n",
      "Here is the vector:\n",
      "tensor([  1,  10,  11, 100])\n",
      "\n",
      "Multiply x by a set of constants:\n",
      "tensor([[[  1,   2,   3],\n",
      "         [  4,   5,   6]],\n",
      "\n",
      "        [[ 10,  20,  30],\n",
      "         [ 40,  50,  60]],\n",
      "\n",
      "        [[ 11,  22,  33],\n",
      "         [ 44,  55,  66]],\n",
      "\n",
      "        [[100, 200, 300],\n",
      "         [400, 500, 600]]])\n"
     ]
    }
   ],
   "source": [
    "x = torch.tensor([[1, 2, 3], [4, 5, 6]])  # x has shape (2, 3)\n",
    "c = torch.tensor([1, 10, 11, 100])        # c has shape (4)\n",
    "print('Here is the matrix:')\n",
    "print(x)\n",
    "print('\\nHere is the vector:')\n",
    "print(c)\n",
    "\n",
    "# We do the following:\n",
    "# 1. Reshape c from (4,) to (4, 1, 1)\n",
    "# 2. x has shape (2, 3). Since they have different ranks, when we multiply the\n",
    "#    two, x behaves as if its shape were (1, 2, 3)\n",
    "# 3. The result of the broadcast multiplication between tensor of shape\n",
    "#    (4, 1, 1) and (1, 2, 3) has shape (4, 2, 3)\n",
    "# 4. The result y has shape (4, 2, 3), and y[i] (shape (2, 3)) is equal to\n",
    "#    c[i] * x\n",
    "y = c.view(-1, 1, 1) * x\n",
    "print('\\nMultiply x by a set of constants:')\n",
    "print(y)"
   ]
  },
  {
   "cell_type": "code",
   "execution_count": null,
   "metadata": {
    "id": "rVh1DMqMr3zl",
    "colab": {
     "base_uri": "https://localhost:8080/"
    },
    "outputId": "8d240332-cd19-4525-b1ef-ab1355352098"
   },
   "outputs": [
    {
     "output_type": "stream",
     "name": "stdout",
     "text": [
      "Here is x:\n",
      "tensor([[  0.,  30., 600.],\n",
      "        [  1.,  10., 200.],\n",
      "        [ -1.,  20., 400.]])\n",
      "Here is y:\n",
      "tensor([[ 0.,  1.,  1.],\n",
      "        [ 1., -1., -1.],\n",
      "        [-1.,  0.,  0.]])\n",
      "y correct:  True\n",
      "x unchanged:  True\n"
     ]
    }
   ],
   "source": [
    "from pytorch_basic import normalize_columns\n",
    "\n",
    "x = torch.tensor([[0., 30., 600.], [1., 10., 200.], [-1., 20., 400.]])\n",
    "y = normalize_columns(x)\n",
    "print('Here is x:')\n",
    "print(x)\n",
    "print('Here is y:')\n",
    "print(y)\n",
    "\n",
    "x_expected = [[0., 30., 600.], [1., 10., 200.], [-1., 20., 400.]]\n",
    "y_expected = [[0., 1., 1.], [1., -1., -1.], [-1., 0., 0.]]\n",
    "y_correct = y.tolist() == y_expected\n",
    "x_correct = x.tolist() == x_expected\n",
    "print('y correct: ', y_correct)\n",
    "print('x unchanged: ', x_correct)"
   ]
  },
  {
   "cell_type": "markdown",
   "metadata": {
    "id": "NlJs-yN4VTRp"
   },
   "source": [
    "### Out-of-place vs in-place operators\n",
    "Most PyTorch operators are classified into one of two categories:\n",
    "- **Out-of-place operators:** return a new tensor. Most PyTorch operators behave this way.\n",
    "- **In-place operators:** modify and return the input tensor. Instance methods that end with an underscore (such as `add_()` are in-place. Operators in the `torch` namespace can be made in-place using the `out=` keyword argument.\n",
    "\n",
    "For example:"
   ]
  },
  {
   "cell_type": "code",
   "execution_count": null,
   "metadata": {
    "id": "lnwGzmU9VTRp",
    "colab": {
     "base_uri": "https://localhost:8080/"
    },
    "outputId": "b0a4fb66-d967-4d0d-ddc2-5c41d3e9c169"
   },
   "outputs": [
    {
     "output_type": "stream",
     "name": "stdout",
     "text": [
      "Out-of-place addition:\n",
      "Before addition:\n",
      "x:  tensor([1, 2, 3])\n",
      "y:  tensor([3, 4, 5])\n",
      "\n",
      "After addition (x and y unchanged):\n",
      "x:  tensor([1, 2, 3])\n",
      "y:  tensor([3, 4, 5])\n",
      "z:  tensor([4, 6, 8])\n",
      "z is x:  False\n",
      "z is y:  False\n",
      "\n",
      "\n",
      "In-place Addition:\n",
      "Before addition:\n",
      "x:  tensor([1, 2, 3])\n",
      "y:  tensor([3, 4, 5])\n",
      "\n",
      "After addition (x is modified):\n",
      "x:  tensor([4, 6, 8])\n",
      "y:  tensor([3, 4, 5])\n",
      "z:  tensor([4, 6, 8])\n",
      "z is x:  False\n",
      "z is y:  False\n"
     ]
    }
   ],
   "source": [
    "# Out-of-place addition creates and returns a new tensor without modifying the inputs:\n",
    "x = torch.tensor([1, 2, 3])\n",
    "y = torch.tensor([3, 4, 5])\n",
    "print('Out-of-place addition:')\n",
    "print('Before addition:')\n",
    "print('x: ', x)\n",
    "print('y: ', y)\n",
    "z = x.add(y)  # Same as z = x + y or z = torch.add(x, y)\n",
    "print('\\nAfter addition (x and y unchanged):')\n",
    "print('x: ', x)\n",
    "print('y: ', y)\n",
    "print('z: ', z)\n",
    "print('z is x: ', z is x)\n",
    "print('z is y: ', z is y)\n",
    "\n",
    "# In-place addition modifies the input tensor:\n",
    "print('\\n\\nIn-place Addition:')\n",
    "print('Before addition:')\n",
    "print('x: ', x)\n",
    "print('y: ', y)\n",
    "x.add_(y)  # Same as x += y or torch.add(x, y, out=x)\n",
    "print('\\nAfter addition (x is modified):')\n",
    "print('x: ', x)\n",
    "print('y: ', y)\n",
    "print('z: ', z)\n",
    "print('z is x: ', z is x)\n",
    "print('z is y: ', z is y)"
   ]
  },
  {
   "cell_type": "markdown",
   "metadata": {
    "id": "uNTk5heeVTRr"
   },
   "source": [
    "In general, **you should avoid in-place operations** since they can cause problems when computing gradients using autograd (which we will cover in a future assignment)."
   ]
  },
  {
   "cell_type": "markdown",
   "metadata": {
    "id": "uN6FfqU9wFeG"
   },
   "source": [
    "## Running on GPU"
   ]
  },
  {
   "cell_type": "markdown",
   "metadata": {
    "id": "Ds6SDTbrwOc1"
   },
   "source": [
    "One of the most important features of PyTorch is that it can use graphics processing units (GPUs) to accelerate its tensor operations.\n",
    "\n",
    "We can easily check whether PyTorch is configured to use GPUs:\n",
    "\n",
    "Tensors can be moved onto any device using the .to method."
   ]
  },
  {
   "cell_type": "code",
   "execution_count": null,
   "metadata": {
    "id": "_RkoFEVVKWlW",
    "colab": {
     "base_uri": "https://localhost:8080/"
    },
    "outputId": "48302a8b-187c-4207-aa15-1619afd5d824"
   },
   "outputs": [
    {
     "output_type": "stream",
     "name": "stdout",
     "text": [
      "PyTorch can use GPUs!\n"
     ]
    }
   ],
   "source": [
    "import torch\n",
    "\n",
    "if torch.cuda.is_available:\n",
    "  print('PyTorch can use GPUs!')\n",
    "else:\n",
    "  print('PyTorch cannot use GPUs.')"
   ]
  },
  {
   "cell_type": "markdown",
   "metadata": {
    "id": "7i_5n_XuKr5k"
   },
   "source": [
    "You can enable GPUs in Colab via Runtime -> Change Runtime Type -> Hardware Accelerator -> GPU.\n",
    "\n",
    "This may cause the Colab runtime to restart, so we will re-import torch in the next cell.\n",
    "\n",
    "We have already seen that PyTorch tensors have a `dtype` attribute specifying their datatype. All PyTorch tensors also have a `device` attribute that specifies the device where the tensor is stored -- either CPU, or CUDA (for NVIDA GPUs). A tensor on a CUDA device will automatically use that device to accelerate all of its operations.\n",
    "\n",
    "Just as with datatypes, we can use the [`.to()`](https://pytorch.org/docs/1.1.0/tensors.html#torch.Tensor.to) method to change the device of a tensor. We can also use the convenience methods `.cuda()` and `.cpu()` methods to move tensors between CPU and GPU."
   ]
  },
  {
   "cell_type": "code",
   "execution_count": null,
   "metadata": {
    "id": "D03s614dMCvy",
    "colab": {
     "base_uri": "https://localhost:8080/"
    },
    "outputId": "7f63a3ac-e876-45ed-b202-94984b11ab1c"
   },
   "outputs": [
    {
     "output_type": "stream",
     "name": "stdout",
     "text": [
      "x0 device: cpu\n",
      "x1 device: cuda:0\n",
      "x2 device: cuda:0\n",
      "x3 device: cpu\n",
      "x4 device: cpu\n",
      "y device / dtype: cuda:0 torch.float64\n",
      "x5 device / dtype: cuda:0 torch.float64\n"
     ]
    }
   ],
   "source": [
    "# Construct a tensor on the CPU\n",
    "x0 = torch.tensor([[1, 2], [3, 4]], dtype=torch.float32)\n",
    "print('x0 device:', x0.device)\n",
    "\n",
    "# Move it to the GPU using .to()\n",
    "x1 = x0.to('cuda')\n",
    "print('x1 device:', x1.device)\n",
    "\n",
    "# Move it to the GPU using .cuda()\n",
    "x2 = x0.cuda()\n",
    "print('x2 device:', x2.device)\n",
    "\n",
    "# Move it back to the CPU using .to()\n",
    "x3 = x1.to('cpu')\n",
    "print('x3 device:', x3.device)\n",
    "\n",
    "# Move it back to the CPU using .cpu()\n",
    "x4 = x2.cpu()\n",
    "print('x4 device:', x4.device)\n",
    "\n",
    "# We can construct tensors directly on the GPU as well\n",
    "y = torch.tensor([[1, 2, 3], [4, 5, 6]], dtype=torch.float64, device='cuda')\n",
    "print('y device / dtype:', y.device, y.dtype)\n",
    "\n",
    "# Calling x.to(y) where y is a tensor will return a copy of x with the same\n",
    "# device and dtype as y\n",
    "x5 = x0.to(y)\n",
    "print('x5 device / dtype:', x5.device, x5.dtype)"
   ]
  },
  {
   "cell_type": "markdown",
   "metadata": {
    "id": "O-TDxICdOmJo"
   },
   "source": [
    "Performing large tensor operations on a GPU can be **a lot faster** than running the equivalent operation on CPU.\n",
    "\n",
    "Here we compare the speed of adding two tensors of shape (10000, 10000) on CPU and GPU:\n",
    "\n",
    "(Note that GPU code may run asynchronously with CPU code, so when timing the speed of operations on the GPU it is important to use `torch.cuda.synchronize` to synchronize the CPU and GPU.)"
   ]
  },
  {
   "cell_type": "code",
   "execution_count": null,
   "metadata": {
    "id": "GW14ZF-_PK7t",
    "colab": {
     "base_uri": "https://localhost:8080/"
    },
    "outputId": "317efc3e-7790-4ae0-f663-5aa9fc21280f"
   },
   "outputs": [
    {
     "output_type": "stream",
     "name": "stdout",
     "text": [
      "Max difference between c_gpu and c_cpu: 0.0\n",
      "CPU time: 359.88 ms\n",
      "GPU time: 5.16 ms\n",
      "GPU speedup: 69.78 x\n"
     ]
    }
   ],
   "source": [
    "import time\n",
    "\n",
    "a_cpu = torch.randn(10000, 10000, dtype=torch.float32)\n",
    "b_cpu = torch.randn(10000, 10000, dtype=torch.float32)\n",
    "\n",
    "a_gpu = a_cpu.cuda()\n",
    "b_gpu = b_cpu.cuda()\n",
    "torch.cuda.synchronize()\n",
    "\n",
    "t0 = time.time()\n",
    "c_cpu = a_cpu + b_cpu\n",
    "t1 = time.time()\n",
    "c_gpu = a_gpu + b_gpu\n",
    "torch.cuda.synchronize()\n",
    "t2 = time.time()\n",
    "\n",
    "# Check that they computed the same thing\n",
    "diff = (c_gpu.cpu() - c_cpu).abs().max().item()\n",
    "print('Max difference between c_gpu and c_cpu:', diff)\n",
    "\n",
    "cpu_time = 1000.0 * (t1 - t0)\n",
    "gpu_time = 1000.0 * (t2 - t1)\n",
    "print('CPU time: %.2f ms' % cpu_time)\n",
    "print('GPU time: %.2f ms' % gpu_time)\n",
    "print('GPU speedup: %.2f x' % (cpu_time / gpu_time))"
   ]
  },
  {
   "cell_type": "code",
   "execution_count": null,
   "metadata": {
    "id": "uqEUdst7SAuZ",
    "colab": {
     "base_uri": "https://localhost:8080/"
    },
    "outputId": "f0733796-88cb-4a12-9bca-71e06af252ea"
   },
   "outputs": [
    {
     "output_type": "stream",
     "name": "stdout",
     "text": [
      "y1 on CPU: True\n",
      "Max difference between y0 and y1: 0.001220703125\n",
      "Difference within tolerance: True\n",
      "CPU time: 177.18 ms\n",
      "GPU time: 28.84 ms\n",
      "GPU speedup: 6.14 x\n"
     ]
    }
   ],
   "source": [
    "import time\n",
    "from pytorch_basic import mm_on_cpu, mm_on_gpu\n",
    "\n",
    "x = torch.rand(512, 4096)\n",
    "w = torch.rand(4096, 4096)\n",
    "\n",
    "t0 = time.time()\n",
    "y0 = mm_on_cpu(x, w)\n",
    "t1 = time.time()\n",
    "\n",
    "y1 = mm_on_gpu(x, w)\n",
    "torch.cuda.synchronize()\n",
    "t2 = time.time()\n",
    "\n",
    "print('y1 on CPU:', y1.device == torch.device('cpu'))\n",
    "diff = (y0 - y1).abs().max().item()\n",
    "print('Max difference between y0 and y1:', diff)\n",
    "print('Difference within tolerance:', diff < 5e-2)\n",
    "\n",
    "cpu_time = 1000.0 * (t1 - t0)\n",
    "gpu_time = 1000.0 * (t2 - t1)\n",
    "print('CPU time: %.2f ms' % cpu_time)\n",
    "print('GPU time: %.2f ms' % gpu_time)\n",
    "print('GPU speedup: %.2f x' % (cpu_time / gpu_time))"
   ]
  },
  {
   "cell_type": "markdown",
   "metadata": {
    "id": "FBZ6iDojW-Bh"
   },
   "source": [
    "# MLP with Pytorch\n",
    "In this section, we'll train a multi-layer perceptron model to classify MNIST digits using PyTorch.\n",
    "\n",
    "First, the needed imports."
   ]
  },
  {
   "cell_type": "code",
   "execution_count": null,
   "metadata": {
    "id": "HrX21G7AW-Bh",
    "outputId": "a697a24d-d2dc-4ceb-f125-08c2319e2bbd",
    "colab": {
     "base_uri": "https://localhost:8080/"
    }
   },
   "outputs": [
    {
     "output_type": "stream",
     "name": "stdout",
     "text": [
      "Using PyTorch version: 2.1.0+cu121\n",
      "No GPU found, using CPU instead.\n"
     ]
    }
   ],
   "source": [
    "%matplotlib inline\n",
    "\n",
    "import torch\n",
    "import torch.nn as nn\n",
    "from torch.utils.data import DataLoader\n",
    "from torchvision import datasets\n",
    "from torchvision.transforms import ToTensor\n",
    "import torch.nn.functional as F\n",
    "import numpy as np\n",
    "import matplotlib.pyplot as plt\n",
    "\n",
    "print('Using PyTorch version:', torch.__version__)\n",
    "if torch.cuda.is_available():\n",
    "    print('Using GPU, device name:', torch.cuda.get_device_name(0))\n",
    "    device = torch.device('cuda')\n",
    "else:\n",
    "    print('No GPU found, using CPU instead.')\n",
    "    device = torch.device('cpu')"
   ]
  },
  {
   "cell_type": "markdown",
   "metadata": {
    "id": "kDSw3wcgW-Bi"
   },
   "source": [
    "## Loading data\n",
    "\n",
    "PyTorch has two classes from [`torch.utils.data` to work with data](https://pytorch.org/docs/stable/data.html#module-torch.utils.data):\n",
    "- [Dataset](https://pytorch.org/docs/stable/data.html#torch.utils.data.Dataset) which represents the actual data items, such as images or pieces of text, and their labels\n",
    "- [DataLoader](https://pytorch.org/docs/stable/data.html#torch.utils.data.DataLoader) which is used for processing the dataset in batches in an efficient manner.\n",
    "\n",
    "PyTorch has domain-specific libraries with utilities for common data types such as [TorchText](https://pytorch.org/text/stable/index.html), [TorchVision](https://pytorch.org/vision/stable/index.html) and [TorchAudio](https://pytorch.org/audio/stable/index.html).\n",
    "\n",
    "Here we will use TorchVision and `torchvision.datasets` which provides easy access to [many common visual datasets](https://pytorch.org/vision/stable/datasets.html). In this example we'll use the [MNIST class](https://pytorch.org/vision/stable/generated/torchvision.datasets.MNIST.html#torchvision.datasets.MNIST) for loading the [MNIST dataset](https://en.wikipedia.org/wiki/MNIST_database)."
   ]
  },
  {
   "cell_type": "code",
   "execution_count": null,
   "metadata": {
    "id": "X7sSnsdXW-Bi"
   },
   "outputs": [],
   "source": [
    "batch_size = 32\n",
    "\n",
    "\n",
    "Transform=ToTensor()\n",
    "\n",
    "train_data=datasets.MNIST(root=\"./data\",train=True, download=True,transform=Transform)\n",
    "\n",
    "test_data=datasets.MNIST(root=\"./data\",train=False, download=True,transform=Transform)\n",
    "\n",
    "#mini batches of 32 for train\n",
    "train_loader=DataLoader(train_data,batch_size=batch_size,shuffle=True)\n",
    "#mini batches of 8*32 for test\n",
    "test_loader1=DataLoader(test_data,batch_size=batch_size*4,shuffle=False)\n"
   ]
  },
  {
   "cell_type": "markdown",
   "metadata": {
    "id": "sCFgvO1dW-Bi"
   },
   "source": [
    "The data loaders provide a way of iterating (making a loop over) the datasets, each time getting a new batch of data with the given batch size.\n",
    "\n",
    "The first element of the data batch (`data`) is a 4th-order tensor of size (`batch_size`, 1, 28, 28), i.e. it consists of a batch of images of size 1x28x28 pixels, where the first value is the number of color channels (only 1 in this case as it's gray scale).\n",
    "\n",
    "The second element of the batch (`target`) is a vector containing the correct (or \"target\") classes (\"0\", \"1\", ..., \"9\") for each training digit."
   ]
  },
  {
   "cell_type": "markdown",
   "metadata": {
    "id": "2j4_Um85W-Bi"
   },
   "source": [
    "Show the first 10 training digits:\n"
   ]
  },
  {
   "cell_type": "code",
   "execution_count": null,
   "metadata": {
    "id": "5v6JNIJ1W-Bj",
    "outputId": "b82ae053-2eee-4b19-b25b-88cde4fbc8c3",
    "colab": {
     "base_uri": "https://localhost:8080/",
     "height": 253
    }
   },
   "outputs": [
    {
     "output_type": "display_data",
     "data": {
      "text/plain": [
       "<Figure size 2000x400 with 10 Axes>"
      ],
      "image/png": "[encoded data removed]"
     },
     "metadata": {}
    }
   ],
   "source": [
    "\n",
    "\n",
    "classes=\"0,1,2,3,4,5,6,7,8,9\".split(\",\")\n",
    "fig = plt.figure(figsize=(20, 4))\n",
    "\n",
    "for i in range(10):\n",
    "    fig.add_subplot(2, 5, i + 1)\n",
    "    image, label = train_data[i]\n",
    "    plt.imshow(image.permute(1, 2, 0).numpy())\n",
    "    plt.title(classes[label])\n",
    "    plt.axis('off')\n",
    "\n"
   ]
  },
  {
   "cell_type": "markdown",
   "metadata": {
    "id": "3lmzs-x-W-Bj"
   },
   "source": [
    "## Multi-layer perceptron (MLP) network\n",
    "\n",
    "In PyTorch, a neural network is defined as a Python class. It needs to have two methods:\n",
    "\n",
    "- `__init__()` which initializes the layers used in the network\n",
    "- `forward()` which defines how the network performs a forward pass\n",
    "\n",
    "PyTorch will then automatically generate a `backward()` method that computes the gradients based on the computation done in the forward pass.\n",
    "\n",
    "All the [neural network building blocks defined in PyTorch can be found in the torch.nn documentation](https://pytorch.org/docs/stable/nn.html).\n",
    "\n",
    "We use `nn.Sequential` to more easily create a simple sequental neural network:\n",
    "\n",
    "- First we need to \"flatten\" the 2D image into a vector with `nn.Flatten`\n",
    "\n",
    "- Next a fully-connected layer with 20 neurons is created with `nn.Linear`. Note that we need to specify the number of input and output connections. In this case there are 28x28=784 inputs, and 64 outputs\n",
    "\n",
    "- Next, a ReLU non-linear activation\n",
    "\n",
    "- Finally the output of the last layer needs to be a 10-dimensional vector to match the ground truth of ten classes (the ten digits).\n",
    "\n",
    "The output of the last layer should be normalized with softmax, but this is actually included implicitly in the loss function in PyTorch."
   ]
  },
  {
   "cell_type": "code",
   "execution_count": null,
   "metadata": {
    "id": "PSWjQRG9W-Bj",
    "outputId": "be6f40cd-cdda-4754-bc41-0cf1f923d0f9",
    "colab": {
     "base_uri": "https://localhost:8080/"
    }
   },
   "outputs": [
    {
     "output_type": "stream",
     "name": "stdout",
     "text": [
      "SimpleMLP(\n",
      "  (fc1): Sequential(\n",
      "    (0): Flatten(start_dim=1, end_dim=-1)\n",
      "    (1): Linear(in_features=784, out_features=64, bias=True)\n",
      "    (2): ReLU()\n",
      "    (3): Linear(in_features=64, out_features=10, bias=True)\n",
      "  )\n",
      ")\n"
     ]
    }
   ],
   "source": [
    "class SimpleMLP(nn.Module):\n",
    "    def __init__(self):\n",
    "        super().__init__()\n",
    "\n",
    "        # Replace \"pass\" statement with your code\n",
    "        self.fc1=nn.Sequential(nn.Flatten(start_dim=1, end_dim=-1),nn.Linear(784,64),nn.ReLU(),nn.Linear(64,10))\n",
    "\n",
    "\n",
    "    def forward(self, x):\n",
    "\n",
    "\n",
    "        out=self.fc1(x)\n",
    "        return out\n",
    "\n",
    "model = SimpleMLP().to(device)\n",
    "print(model)"
   ]
  },
  {
   "cell_type": "markdown",
   "metadata": {
    "id": "iL8MzjijW-Bk"
   },
   "source": [
    "# Training the model\n",
    "\n",
    "In order to train the model we need to define a loss function and an optimizer.\n",
    "\n",
    "For a classification task we typically use the cross entropy loss. For this we can use the class [CrossEntropyLoss](https://pytorch.org/docs/stable/generated/torch.nn.CrossEntropyLoss.html).\n",
    "\n",
    "**Note:** if you read the documentation of `CrossEntropyLoss` carefully you will see that it expects the unnormalized raw outputs of the model as softmax is included implicitly in PyTorch's implementation of `CrossEntropyLoss`. This is why we don't need to explicitly use softmax in the network definition above.\n",
    "\n",
    "Finally, we need to define an optimizer, which tells how to update the model parameters based on the computed gradients. There are [several different optimizer algorithms implemented in PyTorch](https://pytorch.org/docs/stable/optim.html#algorithms)."
   ]
  },
  {
   "cell_type": "code",
   "execution_count": null,
   "metadata": {
    "id": "1YDVz2e3W-Bk"
   },
   "outputs": [],
   "source": [
    "\n",
    "criterion=nn.CrossEntropyLoss()\n",
    "optimizer=torch.optim.Adam(model.parameters(),lr=0.001)\n"
   ]
  },
  {
   "cell_type": "markdown",
   "metadata": {
    "id": "k1oETGNWW-Bk"
   },
   "source": [
    "In PyTorch we have to write the training loop ourselves.\n",
    "\n",
    "The code below consists of two loops:\n",
    "\n",
    "- The outer loop goes over a number of *epochs*. An epoch is a single pass through the whole training data.\n",
    "- The inner loop goes through the whole dataset, a batch at a time. Here we have defined the batch size to be 32, so images are handled 32 at a time.\n",
    "\n",
    "For each batch we:\n",
    "\n",
    "- Copy the data to the GPU with the `.to(device)` method. If we don't have a GPU, these commands will not do anything.\n",
    "\n",
    "- Do a forward pass, which is as simple as: `output = model(data)`\n",
    "\n",
    "- Finally we calculate the loss - that is the error between the output of the network and the target we want to get - using the `criterion` function we defined earlier\n",
    "\n",
    "- The last lines do the backward propagation with `loss.backward()`, the weights are updated with `optimizer.step()` and finally we need to zero the gradient counters with `optimizer.zero_grad()`."
   ]
  },
  {
   "cell_type": "markdown",
   "metadata": {
    "id": "vt3Ib98aW-Bk"
   },
   "source": [
    "First,write a helper function to calculate the number of correctly classified digits."
   ]
  },
  {
   "cell_type": "code",
   "execution_count": null,
   "metadata": {
    "id": "gqlNksqPW-Bk"
   },
   "outputs": [],
   "source": [
    "def correct(output, target):\n",
    "\n",
    "    predict=torch.max(output.data,1)[1]\n",
    "    corr=(predict==target).sum()\n",
    "    return corr\n"
   ]
  },
  {
   "cell_type": "markdown",
   "metadata": {
    "id": "nnD-qgqHW-Bk"
   },
   "source": [
    "Next write a function for a single training epoch.\n",
    "Print average loss value and the accuracy of each epoch."
   ]
  },
  {
   "cell_type": "code",
   "execution_count": null,
   "metadata": {
    "id": "mmBGiCykW-Bk"
   },
   "outputs": [],
   "source": [
    "def train(data_loader, model, criterion, optimizer):\n",
    "\n",
    "    num_corr=0\n",
    "    train_losses=[]\n",
    "    for i,(x_train_cpu,y_train_cpu) in enumerate(data_loader):\n",
    "        x_train_gpu=x_train_cpu.to(device)\n",
    "        y_train_gpu=y_train_cpu.to(device)\n",
    "        # torch.cuda.synchronize()\n",
    "\n",
    "        i+=1\n",
    "        y_preds=model(x_train_gpu.view(batch_size,-1))\n",
    "        loss=criterion(y_preds,y_train_gpu)\n",
    "        num_corr+=correct(y_preds,y_train_gpu)\n",
    "        optimizer.zero_grad()\n",
    "        loss.backward()\n",
    "        optimizer.step()\n",
    "    train_losses.append(loss.item())\n",
    "    acc=num_corr.item()*100/(i*batch_size)\n",
    "    print(f\"Average loss: {sum(train_losses)/len(train_losses):.4f} , accuracy: {acc:.2f}%\")\n",
    "    ##################################"
   ]
  },
  {
   "cell_type": "code",
   "execution_count": null,
   "metadata": {
    "id": "pcLN1KPjW-Bk",
    "outputId": "7082fa48-4c21-4bc8-f683-76d1532523ba",
    "colab": {
     "base_uri": "https://localhost:8080/"
    }
   },
   "outputs": [
    {
     "output_type": "stream",
     "name": "stdout",
     "text": [
      "Training epoch: 1\n",
      "Average loss: 0.2164 , accuracy: 91.00%\n",
      "Training epoch: 2\n",
      "Average loss: 0.1356 , accuracy: 95.53%\n",
      "Training epoch: 3\n",
      "Average loss: 0.0285 , accuracy: 96.70%\n",
      "Training epoch: 4\n",
      "Average loss: 0.0297 , accuracy: 97.41%\n",
      "Training epoch: 5\n",
      "Average loss: 0.0095 , accuracy: 97.88%\n",
      "Training epoch: 6\n",
      "Average loss: 0.0654 , accuracy: 98.16%\n",
      "Training epoch: 7\n",
      "Average loss: 0.0164 , accuracy: 98.42%\n",
      "Training epoch: 8\n",
      "Average loss: 0.0114 , accuracy: 98.62%\n",
      "Training epoch: 9\n",
      "Average loss: 0.0587 , accuracy: 98.76%\n",
      "Training epoch: 10\n",
      "Average loss: 0.1221 , accuracy: 98.96%\n",
      "CPU times: user 1min 17s, sys: 426 ms, total: 1min 18s\n",
      "Wall time: 1min 23s\n"
     ]
    }
   ],
   "source": [
    "%%time\n",
    "\n",
    "epochs = 10\n",
    "for epoch in range(epochs):\n",
    "    print(f\"Training epoch: {epoch+1}\")\n",
    "    train(train_loader, model, criterion, optimizer)"
   ]
  },
  {
   "cell_type": "markdown",
   "metadata": {
    "id": "8mrQVOIhW-Bl"
   },
   "source": [
    "### Inference\n",
    "\n",
    "For a better measure of the quality of the model, let's see the model accuracy for the test data.\n",
    "\n",
    "The code is similar to the training code: we just loop over the whole testset, but no need to do backpropagation or calculate any gradients this time."
   ]
  },
  {
   "cell_type": "code",
   "execution_count": null,
   "metadata": {
    "id": "tfw0qH8IW-Bl"
   },
   "outputs": [],
   "source": [
    "def test(test_loader1, model, criterion):\n",
    "\n",
    "    num_corr=0\n",
    "    test_losses=[]\n",
    "    with torch.no_grad():\n",
    "      for j,(x_test,y_test) in enumerate(test_loader1):\n",
    "        j+=1\n",
    "        x_test_gpu=x_test.to(device)\n",
    "        y_test_gpu=y_test.to(device)\n",
    "\n",
    "\n",
    "        y_val=model(x_test_gpu.reshape(-1,784))\n",
    "        num_corr+=correct(y_val,y_test_gpu)\n",
    "        loss_test=criterion(y_val,y_test_gpu)\n",
    "        test_losses.append(loss_test.item())\n",
    "    acc_test=num_corr.item()*100/(j*4*batch_size)\n",
    "    print(f\"Testset accuracy:{acc_test:.2f}%, average loss: {sum(test_losses)/len(test_losses):.7f}\")\n"
   ]
  },
  {
   "cell_type": "code",
   "execution_count": null,
   "metadata": {
    "id": "t4SAgKTXW-Bl",
    "outputId": "4187c184-071b-49e0-dd2d-5a55bd7c2b6a",
    "colab": {
     "base_uri": "https://localhost:8080/"
    }
   },
   "outputs": [
    {
     "output_type": "stream",
     "name": "stdout",
     "text": [
      "Testset accuracy:96.39%, average loss: 0.0875818\n"
     ]
    }
   ],
   "source": [
    "test(test_loader1, model, criterion)"
   ]
  },
  {
   "cell_type": "markdown",
   "metadata": {
    "id": "hunYlxDCW-Bl"
   },
   "source": [
    "Done!"
   ]
  }
 ],
 "metadata": {
  "accelerator": "GPU",
  "colab": {
   "provenance": [],
   "gpuType": "T4"
  },
  "kernelspec": {
   "display_name": "Python 3",
   "name": "python3"
  },
  "language_info": {
   "codemirror_mode": {
    "name": "ipython",
    "version": 3
   },
   "file_extension": ".py",
   "mimetype": "text/x-python",
   "name": "python",
   "nbconvert_exporter": "python",
   "pygments_lexer": "ipython3",
   "version": "3.7.4"
  },
  "vscode": {
   "interpreter": {
    "hash": "e534e48711db4d1e1c48977d0d14ff85b1f16d41bcc4fdfd88268a329b3c9d66"
   }
  }
 },
 "nbformat": 4,
 "nbformat_minor": 0
}
